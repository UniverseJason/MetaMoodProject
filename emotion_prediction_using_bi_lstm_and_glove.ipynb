{
  "cells": [
    {
      "cell_type": "markdown",
      "metadata": {
        "id": "RPKMEPzuygdK"
      },
      "source": [
        "# Text Emotion Labeler\n",
        "## Bryce Hinkley\n",
        "### UTSA Computer Science - Large Scale Database Management\n",
        "### Spring 2023\n",
        "\n",
        "This script is for creating a neural network that can be used to input text to assign one of 7 labels.\n",
        "\n",
        "The seed is very important because if you have a different seed the one_hot can change and you will have a different type of result even when uploading the same model."
      ],
      "id": "RPKMEPzuygdK"
    },
    {
      "cell_type": "markdown",
      "metadata": {
        "id": "delayed-validation"
      },
      "source": [
        "# Import libraries"
      ],
      "id": "delayed-validation"
    },
    {
      "cell_type": "code",
      "execution_count": 1,
      "metadata": {
        "id": "polyphonic-address"
      },
      "outputs": [],
      "source": [
        "import numpy as np\n",
        "import pandas as pd \n",
        "import tensorflow as tf\n",
        "import nltk\n",
        "import seaborn as sns\n",
        "import re\n",
        "import matplotlib.pyplot as plt\n",
        "import concurrent.futures\n",
        "from IPython.display import clear_output\n",
        "import os\n",
        "import pickle\n",
        "\n",
        "\n",
        "from tensorflow.keras.layers import Embedding, Dense, LSTM, Dropout, Bidirectional\n",
        "from tensorflow.keras.preprocessing.sequence import pad_sequences\n",
        "from tensorflow.keras.models import Sequential\n",
        "from tensorflow.keras.preprocessing.text import one_hot, Tokenizer\n",
        "from tensorflow.keras.callbacks import ModelCheckpoint\n",
        "from nltk.corpus import stopwords\n",
        "from nltk.stem.porter import PorterStemmer\n",
        "from sklearn import preprocessing\n",
        "from sklearn.model_selection import train_test_split\n",
        "from sklearn.metrics import accuracy_score, classification_report, confusion_matrix\n",
        "import random as rn\n",
        "\n",
        "# Set the seed for numpy, tensorflow, and random\n",
        "np.random.seed(0)\n",
        "rn.seed(0)\n",
        "tf.random.set_seed(0)"
      ],
      "id": "polyphonic-address"
    },
    {
      "cell_type": "markdown",
      "metadata": {
        "id": "BE38KEIAodLn"
      },
      "source": [
        "This is completely optional. I personally use it because I don't want to mount the Google Drive repeatedly and have the box pop up, plus it makes it easy to share the file with other people. So instead of needing the files on your Drive you should be able to download them that are publicly available on my Drive. Feel free to download onto a local machine them if you need them though."
      ],
      "id": "BE38KEIAodLn"
    },
    {
      "cell_type": "code",
      "execution_count": 2,
      "metadata": {
        "colab": {
          "base_uri": "https://localhost:8080/"
        },
        "id": "GpY0SYCg79Uw",
        "outputId": "d75bdd89-5d62-4f1a-9eb1-56b2aa903f33"
      },
      "outputs": [
        {
          "output_type": "stream",
          "name": "stdout",
          "text": [
            "/usr/local/lib/python3.9/dist-packages/gdown/cli.py:121: FutureWarning: Option `--id` was deprecated in version 4.3.1 and will be removed in 5.0. You don't need to pass it anymore to use a file ID.\n",
            "  warnings.warn(\n",
            "Downloading...\n",
            "From: https://drive.google.com/uc?id=1udpdz9IyUAOgPbLzDmRnf17qI87tPpmd\n",
            "To: /content/emotion_final.csv\n",
            "100% 2.26M/2.26M [00:00<00:00, 117MB/s]\n",
            "/usr/local/lib/python3.9/dist-packages/gdown/cli.py:121: FutureWarning: Option `--id` was deprecated in version 4.3.1 and will be removed in 5.0. You don't need to pass it anymore to use a file ID.\n",
            "  warnings.warn(\n",
            "Downloading...\n",
            "From: https://drive.google.com/uc?id=1goJShSS2bXxm6ExIKQXGLqIabUTzcSaA\n",
            "To: /content/glove.6B.100d.txt\n",
            "100% 347M/347M [00:08<00:00, 42.4MB/s]\n"
          ]
        }
      ],
      "source": [
        "!gdown --id 1udpdz9IyUAOgPbLzDmRnf17qI87tPpmd\n",
        "!gdown --id 1goJShSS2bXxm6ExIKQXGLqIabUTzcSaA\n",
        "# # https://drive.google.com/file/d/1goJShSS2bXxm6ExIKQXGLqIabUTzcSaA/view?usp=sharing"
      ],
      "id": "GpY0SYCg79Uw"
    },
    {
      "cell_type": "markdown",
      "metadata": {
        "id": "involved-satisfaction"
      },
      "source": [
        "# Read and clean data"
      ],
      "id": "involved-satisfaction"
    },
    {
      "cell_type": "code",
      "execution_count": 3,
      "metadata": {
        "colab": {
          "base_uri": "https://localhost:8080/",
          "height": 206
        },
        "id": "intensive-developer",
        "outputId": "a8b94126-ad19-48b6-e6cb-a89df340b484"
      },
      "outputs": [
        {
          "output_type": "execute_result",
          "data": {
            "text/plain": [
              "                                                Text  Emotion\n",
              "0                            i didnt feel humiliated  sadness\n",
              "1  i can go from feeling so hopeless to so damned...  sadness\n",
              "2   im grabbing a minute to post i feel greedy wrong    anger\n",
              "3  i am ever feeling nostalgic about the fireplac...     love\n",
              "4                               i am feeling grouchy    anger"
            ],
            "text/html": [
              "\n",
              "  <div id=\"df-385282a1-f51e-4c41-85b6-c50f893d2ba9\">\n",
              "    <div class=\"colab-df-container\">\n",
              "      <div>\n",
              "<style scoped>\n",
              "    .dataframe tbody tr th:only-of-type {\n",
              "        vertical-align: middle;\n",
              "    }\n",
              "\n",
              "    .dataframe tbody tr th {\n",
              "        vertical-align: top;\n",
              "    }\n",
              "\n",
              "    .dataframe thead th {\n",
              "        text-align: right;\n",
              "    }\n",
              "</style>\n",
              "<table border=\"1\" class=\"dataframe\">\n",
              "  <thead>\n",
              "    <tr style=\"text-align: right;\">\n",
              "      <th></th>\n",
              "      <th>Text</th>\n",
              "      <th>Emotion</th>\n",
              "    </tr>\n",
              "  </thead>\n",
              "  <tbody>\n",
              "    <tr>\n",
              "      <th>0</th>\n",
              "      <td>i didnt feel humiliated</td>\n",
              "      <td>sadness</td>\n",
              "    </tr>\n",
              "    <tr>\n",
              "      <th>1</th>\n",
              "      <td>i can go from feeling so hopeless to so damned...</td>\n",
              "      <td>sadness</td>\n",
              "    </tr>\n",
              "    <tr>\n",
              "      <th>2</th>\n",
              "      <td>im grabbing a minute to post i feel greedy wrong</td>\n",
              "      <td>anger</td>\n",
              "    </tr>\n",
              "    <tr>\n",
              "      <th>3</th>\n",
              "      <td>i am ever feeling nostalgic about the fireplac...</td>\n",
              "      <td>love</td>\n",
              "    </tr>\n",
              "    <tr>\n",
              "      <th>4</th>\n",
              "      <td>i am feeling grouchy</td>\n",
              "      <td>anger</td>\n",
              "    </tr>\n",
              "  </tbody>\n",
              "</table>\n",
              "</div>\n",
              "      <button class=\"colab-df-convert\" onclick=\"convertToInteractive('df-385282a1-f51e-4c41-85b6-c50f893d2ba9')\"\n",
              "              title=\"Convert this dataframe to an interactive table.\"\n",
              "              style=\"display:none;\">\n",
              "        \n",
              "  <svg xmlns=\"http://www.w3.org/2000/svg\" height=\"24px\"viewBox=\"0 0 24 24\"\n",
              "       width=\"24px\">\n",
              "    <path d=\"M0 0h24v24H0V0z\" fill=\"none\"/>\n",
              "    <path d=\"M18.56 5.44l.94 2.06.94-2.06 2.06-.94-2.06-.94-.94-2.06-.94 2.06-2.06.94zm-11 1L8.5 8.5l.94-2.06 2.06-.94-2.06-.94L8.5 2.5l-.94 2.06-2.06.94zm10 10l.94 2.06.94-2.06 2.06-.94-2.06-.94-.94-2.06-.94 2.06-2.06.94z\"/><path d=\"M17.41 7.96l-1.37-1.37c-.4-.4-.92-.59-1.43-.59-.52 0-1.04.2-1.43.59L10.3 9.45l-7.72 7.72c-.78.78-.78 2.05 0 2.83L4 21.41c.39.39.9.59 1.41.59.51 0 1.02-.2 1.41-.59l7.78-7.78 2.81-2.81c.8-.78.8-2.07 0-2.86zM5.41 20L4 18.59l7.72-7.72 1.47 1.35L5.41 20z\"/>\n",
              "  </svg>\n",
              "      </button>\n",
              "      \n",
              "  <style>\n",
              "    .colab-df-container {\n",
              "      display:flex;\n",
              "      flex-wrap:wrap;\n",
              "      gap: 12px;\n",
              "    }\n",
              "\n",
              "    .colab-df-convert {\n",
              "      background-color: #E8F0FE;\n",
              "      border: none;\n",
              "      border-radius: 50%;\n",
              "      cursor: pointer;\n",
              "      display: none;\n",
              "      fill: #1967D2;\n",
              "      height: 32px;\n",
              "      padding: 0 0 0 0;\n",
              "      width: 32px;\n",
              "    }\n",
              "\n",
              "    .colab-df-convert:hover {\n",
              "      background-color: #E2EBFA;\n",
              "      box-shadow: 0px 1px 2px rgba(60, 64, 67, 0.3), 0px 1px 3px 1px rgba(60, 64, 67, 0.15);\n",
              "      fill: #174EA6;\n",
              "    }\n",
              "\n",
              "    [theme=dark] .colab-df-convert {\n",
              "      background-color: #3B4455;\n",
              "      fill: #D2E3FC;\n",
              "    }\n",
              "\n",
              "    [theme=dark] .colab-df-convert:hover {\n",
              "      background-color: #434B5C;\n",
              "      box-shadow: 0px 1px 3px 1px rgba(0, 0, 0, 0.15);\n",
              "      filter: drop-shadow(0px 1px 2px rgba(0, 0, 0, 0.3));\n",
              "      fill: #FFFFFF;\n",
              "    }\n",
              "  </style>\n",
              "\n",
              "      <script>\n",
              "        const buttonEl =\n",
              "          document.querySelector('#df-385282a1-f51e-4c41-85b6-c50f893d2ba9 button.colab-df-convert');\n",
              "        buttonEl.style.display =\n",
              "          google.colab.kernel.accessAllowed ? 'block' : 'none';\n",
              "\n",
              "        async function convertToInteractive(key) {\n",
              "          const element = document.querySelector('#df-385282a1-f51e-4c41-85b6-c50f893d2ba9');\n",
              "          const dataTable =\n",
              "            await google.colab.kernel.invokeFunction('convertToInteractive',\n",
              "                                                     [key], {});\n",
              "          if (!dataTable) return;\n",
              "\n",
              "          const docLinkHtml = 'Like what you see? Visit the ' +\n",
              "            '<a target=\"_blank\" href=https://colab.research.google.com/notebooks/data_table.ipynb>data table notebook</a>'\n",
              "            + ' to learn more about interactive tables.';\n",
              "          element.innerHTML = '';\n",
              "          dataTable['output_type'] = 'display_data';\n",
              "          await google.colab.output.renderOutput(dataTable, element);\n",
              "          const docLink = document.createElement('div');\n",
              "          docLink.innerHTML = docLinkHtml;\n",
              "          element.appendChild(docLink);\n",
              "        }\n",
              "      </script>\n",
              "    </div>\n",
              "  </div>\n",
              "  "
            ]
          },
          "metadata": {},
          "execution_count": 3
        }
      ],
      "source": [
        "df=pd.read_csv('emotion_final.csv') #Text data\n",
        "EMBEDDING_FILE= f'glove.6B.100d.txt' #GloVe file path\n",
        "df.head()"
      ],
      "id": "intensive-developer"
    },
    {
      "cell_type": "code",
      "execution_count": 4,
      "metadata": {
        "colab": {
          "base_uri": "https://localhost:8080/",
          "height": 466
        },
        "id": "agreed-pathology",
        "outputId": "f2b7f02f-7a1b-4c23-e428-a93dacf76060"
      },
      "outputs": [
        {
          "output_type": "execute_result",
          "data": {
            "text/plain": [
              "<Axes: xlabel='Emotion', ylabel='count'>"
            ]
          },
          "metadata": {},
          "execution_count": 4
        },
        {
          "output_type": "display_data",
          "data": {
            "text/plain": [
              "<Figure size 640x480 with 1 Axes>"
            ],
            "image/png": "[encoded data removed]"
          },
          "metadata": {}
        }
      ],
      "source": [
        "#Target Classes\n",
        "sns.countplot(x = \"Emotion\", data = df)"
      ],
      "id": "agreed-pathology"
    },
    {
      "cell_type": "code",
      "execution_count": 5,
      "metadata": {
        "id": "attached-disco"
      },
      "outputs": [],
      "source": [
        "df=df.dropna() #Drop columns with NA values\n",
        "X=df.drop('Emotion',axis=1) #Input\n",
        "y=df['Emotion'] #Output"
      ],
      "id": "attached-disco"
    },
    {
      "cell_type": "code",
      "execution_count": 6,
      "metadata": {
        "id": "martial-affairs"
      },
      "outputs": [],
      "source": [
        "messages=X.copy()\n",
        "messages.reset_index(inplace=True) #Drop NA may cause inconsistency in index"
      ],
      "id": "martial-affairs"
    },
    {
      "cell_type": "code",
      "execution_count": 7,
      "metadata": {
        "colab": {
          "base_uri": "https://localhost:8080/"
        },
        "id": "comparative-province",
        "outputId": "6dee2829-483c-4458-f49a-ea711feaf198"
      },
      "outputs": [
        {
          "output_type": "stream",
          "name": "stderr",
          "text": [
            "[nltk_data] Downloading package stopwords to /root/nltk_data...\n",
            "[nltk_data]   Package stopwords is already up-to-date!\n"
          ]
        }
      ],
      "source": [
        "nltk.download('stopwords')\n",
        "ps = PorterStemmer()\n",
        "corpus = []\n",
        "for i in range(0, len(messages)):\n",
        "    review = re.sub('[^a-zA-Z]', ' ', messages['Text'][i]) #Remove Special Characters\n",
        "    review = review.lower() #Lower case \n",
        "    review = review.split()\n",
        "    review = [ps.stem(word) for word in review if not word in stopwords.words('english')] #Remove stopwords\n",
        "    review = ' '.join(review)\n",
        "    corpus.append(review)"
      ],
      "id": "comparative-province"
    },
    {
      "cell_type": "code",
      "execution_count": 8,
      "metadata": {
        "colab": {
          "base_uri": "https://localhost:8080/"
        },
        "id": "ancient-magic",
        "outputId": "e37e416f-5d7d-494d-d42f-b141395a7bfb"
      },
      "outputs": [
        {
          "output_type": "execute_result",
          "data": {
            "text/plain": [
              "['didnt feel humili',\n",
              " 'go feel hopeless damn hope around someon care awak',\n",
              " 'im grab minut post feel greedi wrong',\n",
              " 'ever feel nostalg fireplac know still properti',\n",
              " 'feel grouchi',\n",
              " 'ive feel littl burden late wasnt sure',\n",
              " 'ive take milligram time recommend amount ive fallen asleep lot faster also feel like funni',\n",
              " 'feel confus life teenag jade year old man',\n",
              " 'petrona year feel petrona perform well made huge profit',\n",
              " 'feel romant']"
            ]
          },
          "metadata": {},
          "execution_count": 8
        }
      ],
      "source": [
        "corpus[:10]"
      ],
      "id": "ancient-magic"
    },
    {
      "cell_type": "markdown",
      "metadata": {
        "id": "armed-inquiry"
      },
      "source": [
        "# Embedding layer using GloVe "
      ],
      "id": "armed-inquiry"
    },
    {
      "cell_type": "code",
      "execution_count": 9,
      "metadata": {
        "colab": {
          "base_uri": "https://localhost:8080/"
        },
        "id": "european-convention",
        "outputId": "c291c9bb-599f-4bd9-adca-c3b8d5027637"
      },
      "outputs": [
        {
          "output_type": "stream",
          "name": "stderr",
          "text": [
            "/usr/local/lib/python3.9/dist-packages/IPython/core/interactiveshell.py:3473: FutureWarning: arrays to stack must be passed as a \"sequence\" type such as list or tuple. Support for non-sequence iterables such as generators is deprecated as of NumPy 1.16 and will raise an error in the future.\n",
            "  if (await self.run_code(code, result,  async_=asy)):\n"
          ]
        },
        {
          "output_type": "stream",
          "name": "stdout",
          "text": [
            "0.004451992 0.4081574\n"
          ]
        }
      ],
      "source": [
        "#Creating the dictionary with word as key and pretrained-value array as value\n",
        "def get_coefs(word,*arr): return word, np.asarray(arr, dtype='float32')\n",
        "embeddings_index = dict(get_coefs(*o.strip().split()) for o in open(EMBEDDING_FILE))\n",
        "\n",
        "#Calculate mean and std for the pretrained weights\n",
        "all_embs = np.stack(embeddings_index.values())\n",
        "emb_mean,emb_std = all_embs.mean(), all_embs.std()\n",
        "print(emb_mean,emb_std)"
      ],
      "id": "european-convention"
    },
    {
      "cell_type": "code",
      "execution_count": 10,
      "metadata": {
        "id": "controversial-daily"
      },
      "outputs": [],
      "source": [
        "voc_size=10000 # Vocabulary size\n",
        "embed_size=100 #word vector size\n",
        "\n",
        "tokenizer = Tokenizer(num_words=voc_size)\n",
        "tokenizer.fit_on_texts(list(corpus))\n",
        "word_index = tokenizer.word_index #Total words in the corpus\n",
        "nb_words = min(voc_size, len(word_index))\n",
        "\n",
        "#Initialize weight matrix for embedding layer\n",
        "embedding_matrix = np.random.normal(emb_mean, emb_std, (nb_words, embed_size)) \n",
        "\n",
        "for word, i in word_index.items():\n",
        "    if i >= voc_size: continue #Skip the words if vocab size is reached\n",
        "    embedding_vector = embeddings_index.get(word) #Extract the pretrained values from GloVe\n",
        "    if embedding_vector is not None: embedding_matrix[i] = embedding_vector\n",
        "np.save('embedding_matrix.npy', embedding_matrix)\n"
      ],
      "id": "controversial-daily"
    },
    {
      "cell_type": "code",
      "execution_count": 11,
      "metadata": {
        "colab": {
          "base_uri": "https://localhost:8080/"
        },
        "id": "juvenile-breeding",
        "outputId": "fb15e7ba-b009-49e9-d911-97261c4d85a8"
      },
      "outputs": [
        {
          "output_type": "execute_result",
          "data": {
            "text/plain": [
              "10000"
            ]
          },
          "metadata": {},
          "execution_count": 11
        }
      ],
      "source": [
        "#Contains the pretrained GloVe weights for the words\n",
        "len(embedding_matrix)"
      ],
      "id": "juvenile-breeding"
    },
    {
      "cell_type": "markdown",
      "metadata": {
        "id": "coordinated-female"
      },
      "source": [
        "# Process Input-Output data"
      ],
      "id": "coordinated-female"
    },
    {
      "cell_type": "code",
      "execution_count": 12,
      "metadata": {
        "colab": {
          "base_uri": "https://localhost:8080/"
        },
        "id": "universal-ordinary",
        "outputId": "6a350f16-1a59-4afc-c89c-bfb76f411416"
      },
      "outputs": [
        {
          "output_type": "stream",
          "name": "stdout",
          "text": [
            "[[   0    0    0 ... 2557  166 9077]\n",
            " [   0    0    0 ... 3127 2347 6978]\n",
            " [   0    0    0 ...  166 4459 3226]\n",
            " ...\n",
            " [   0    0    0 ... 1549 9268 2697]\n",
            " [   0    0    0 ... 3824 2697 8012]\n",
            " [   0    0    0 ...    0 2697 4343]]\n"
          ]
        }
      ],
      "source": [
        "#One hot representation for input\n",
        "onehot_repr=[one_hot(words,voc_size)for words in corpus]\n",
        "with open('onehot_repr.pkl', 'wb') as f:\n",
        "    pickle.dump(onehot_repr, f)\n",
        "#Finding max words\n",
        "l = 0\n",
        "for x in corpus:\n",
        "    l = max(l,len(x.split(' ')))\n",
        "\n",
        "#Padding the sequences for input\n",
        "sent_length= l\n",
        "embedded_docs=pad_sequences(onehot_repr,padding='pre',maxlen=sent_length)\n",
        "print(embedded_docs)"
      ],
      "id": "universal-ordinary"
    },
    {
      "cell_type": "code",
      "execution_count": 13,
      "metadata": {
        "colab": {
          "base_uri": "https://localhost:8080/"
        },
        "id": "agreed-inspiration",
        "outputId": "0a9940f4-c460-4255-a75c-b478f4422150"
      },
      "outputs": [
        {
          "output_type": "stream",
          "name": "stdout",
          "text": [
            "[4 4 0 ... 1 1 1]\n"
          ]
        }
      ],
      "source": [
        "#Encoding the target outputs to integers\n",
        "label_encoder = preprocessing.LabelEncoder()\n",
        "\n",
        "X_final=np.array(embedded_docs) #input to array\n",
        "y = label_encoder.fit_transform(y)\n",
        "y_final=np.array(y)\n",
        "print(y_final)\n",
        "with open('label_encoder.pkl', 'wb') as f:\n",
        "    pickle.dump(label_encoder, f)\n"
      ],
      "id": "agreed-inspiration"
    },
    {
      "cell_type": "code",
      "execution_count": 14,
      "metadata": {
        "colab": {
          "base_uri": "https://localhost:8080/"
        },
        "id": "increasing-apparatus",
        "outputId": "d80c7282-3e59-47aa-be9f-af8f6a1b24fd"
      },
      "outputs": [
        {
          "output_type": "execute_result",
          "data": {
            "text/plain": [
              "((21459, 35), (21459,))"
            ]
          },
          "metadata": {},
          "execution_count": 14
        }
      ],
      "source": [
        "X_final.shape,y_final.shape"
      ],
      "id": "increasing-apparatus"
    },
    {
      "cell_type": "code",
      "execution_count": 15,
      "metadata": {
        "id": "inappropriate-young"
      },
      "outputs": [],
      "source": [
        "#Train-Test split\n",
        "X_train, X_test, y_train, y_test = train_test_split(X_final, y_final, \n",
        "                                                    test_size=0.2, random_state=42) \n",
        "#Train-Validation split\n",
        "X_train, X_val, y_train, y_val = train_test_split(X_train, y_train, \n",
        "                                                  test_size=0.1, random_state=21) "
      ],
      "id": "inappropriate-young"
    },
    {
      "cell_type": "markdown",
      "metadata": {
        "id": "vietnamese-confidentiality"
      },
      "source": [
        "# Create and train model"
      ],
      "id": "vietnamese-confidentiality"
    },
    {
      "cell_type": "code",
      "execution_count": 16,
      "metadata": {
        "colab": {
          "base_uri": "https://localhost:8080/"
        },
        "id": "designed-picnic",
        "outputId": "d13e54a1-d210-49d5-adba-d3358164a1f4"
      },
      "outputs": [
        {
          "output_type": "stream",
          "name": "stdout",
          "text": [
            "Model: \"sequential\"\n",
            "_________________________________________________________________\n",
            " Layer (type)                Output Shape              Param #   \n",
            "=================================================================\n",
            " embedding (Embedding)       (None, None, 100)         1000000   \n",
            "                                                                 \n",
            " dropout (Dropout)           (None, None, 100)         0         \n",
            "                                                                 \n",
            " bidirectional (Bidirectiona  (None, 128)              84480     \n",
            " l)                                                              \n",
            "                                                                 \n",
            " dropout_1 (Dropout)         (None, 128)               0         \n",
            "                                                                 \n",
            " dense (Dense)               (None, 64)                8256      \n",
            "                                                                 \n",
            " dropout_2 (Dropout)         (None, 64)                0         \n",
            "                                                                 \n",
            " dense_1 (Dense)             (None, 6)                 390       \n",
            "                                                                 \n",
            "=================================================================\n",
            "Total params: 1,093,126\n",
            "Trainable params: 1,093,126\n",
            "Non-trainable params: 0\n",
            "_________________________________________________________________\n"
          ]
        }
      ],
      "source": [
        "# Creating model\n",
        "model=Sequential()\n",
        "model.add(Embedding(voc_size, embed_size, weights=[embedding_matrix]))\n",
        "model.add(Dropout(0.3))\n",
        "model.add(Bidirectional(LSTM(64)))\n",
        "model.add(Dropout(0.3))\n",
        "model.add(Dense(64, activation='relu',kernel_regularizer=tf.keras.regularizers.l1(0.01))) #L1 regularization\n",
        "model.add(Dropout(0.3))\n",
        "model.add(Dense(6,activation='softmax'))\n",
        "model.compile(loss='sparse_categorical_crossentropy',optimizer= tf.keras.optimizers.Adam(learning_rate=0.001),\n",
        "              metrics=['accuracy'])\n",
        "model.summary()"
      ],
      "id": "designed-picnic"
    },
    {
      "cell_type": "code",
      "execution_count": 17,
      "metadata": {
        "colab": {
          "base_uri": "https://localhost:8080/"
        },
        "id": "6JDMFujP99cq",
        "outputId": "fbe159b2-b726-4d83-975b-068143980baf"
      },
      "outputs": [
        {
          "output_type": "stream",
          "name": "stdout",
          "text": [
            "Looking in indexes: https://pypi.org/simple, https://us-python.pkg.dev/colab-wheels/public/simple/\n",
            "Requirement already satisfied: pydot in /usr/local/lib/python3.9/dist-packages (1.4.2)\n",
            "Requirement already satisfied: graphviz in /usr/local/lib/python3.9/dist-packages (0.20.1)\n",
            "Requirement already satisfied: pyparsing>=2.1.4 in /usr/local/lib/python3.9/dist-packages (from pydot) (3.0.9)\n"
          ]
        }
      ],
      "source": [
        "!pip install pydot graphviz"
      ],
      "id": "6JDMFujP99cq"
    },
    {
      "cell_type": "code",
      "execution_count": 18,
      "metadata": {
        "colab": {
          "base_uri": "https://localhost:8080/",
          "height": 758
        },
        "id": "TGtJRqk890fV",
        "outputId": "cf9b1df8-f841-4455-c54d-9269e184c43c"
      },
      "outputs": [
        {
          "output_type": "execute_result",
          "data": {
            "image/png": "[encoded data removed]",
            "text/plain": [
              "<IPython.core.display.Image object>"
            ]
          },
          "metadata": {},
          "execution_count": 18
        }
      ],
      "source": [
        "tf.keras.utils.plot_model(model, show_shapes=False, \n",
        "                          show_layer_names=True, rankdir='TB',\n",
        "                          expand_nested=False, dpi=96)"
      ],
      "id": "TGtJRqk890fV"
    },
    {
      "cell_type": "code",
      "execution_count": 19,
      "metadata": {
        "colab": {
          "base_uri": "https://localhost:8080/"
        },
        "id": "dominican-discount",
        "outputId": "b2ce1d95-8797-4043-f4a6-b8fd993a851b"
      },
      "outputs": [
        {
          "output_type": "stream",
          "name": "stdout",
          "text": [
            "Epoch 1/20\n",
            "515/515 [==============================] - ETA: 0s - loss: 2.6251 - accuracy: 0.3213\n",
            "Epoch 1: val_loss improved from inf to 1.64424, saving model to weights.h5\n",
            "515/515 [==============================] - 17s 25ms/step - loss: 2.6251 - accuracy: 0.3213 - val_loss: 1.6442 - val_accuracy: 0.3151\n",
            "Epoch 2/20\n",
            "514/515 [============================>.] - ETA: 0s - loss: 1.6200 - accuracy: 0.3241\n",
            "Epoch 2: val_loss improved from 1.64424 to 1.62415, saving model to weights.h5\n",
            "515/515 [==============================] - 11s 22ms/step - loss: 1.6200 - accuracy: 0.3241 - val_loss: 1.6242 - val_accuracy: 0.3151\n",
            "Epoch 3/20\n",
            "514/515 [============================>.] - ETA: 0s - loss: 1.6081 - accuracy: 0.3285\n",
            "Epoch 3: val_loss improved from 1.62415 to 1.61839, saving model to weights.h5\n",
            "515/515 [==============================] - 11s 22ms/step - loss: 1.6081 - accuracy: 0.3287 - val_loss: 1.6184 - val_accuracy: 0.3151\n",
            "Epoch 4/20\n",
            "514/515 [============================>.] - ETA: 0s - loss: 1.6055 - accuracy: 0.3291\n",
            "Epoch 4: val_loss did not improve from 1.61839\n",
            "515/515 [==============================] - 11s 22ms/step - loss: 1.6055 - accuracy: 0.3291 - val_loss: 1.6190 - val_accuracy: 0.3151\n",
            "Epoch 5/20\n",
            "514/515 [============================>.] - ETA: 0s - loss: 1.6034 - accuracy: 0.3298\n",
            "Epoch 5: val_loss did not improve from 1.61839\n",
            "515/515 [==============================] - 11s 22ms/step - loss: 1.6034 - accuracy: 0.3300 - val_loss: 1.6189 - val_accuracy: 0.3151\n",
            "Epoch 6/20\n",
            "514/515 [============================>.] - ETA: 0s - loss: 1.5482 - accuracy: 0.3278\n",
            "Epoch 6: val_loss improved from 1.61839 to 1.42507, saving model to weights.h5\n",
            "515/515 [==============================] - 11s 22ms/step - loss: 1.5479 - accuracy: 0.3278 - val_loss: 1.4251 - val_accuracy: 0.2877\n",
            "Epoch 7/20\n",
            "514/515 [============================>.] - ETA: 0s - loss: 1.3455 - accuracy: 0.3827\n",
            "Epoch 7: val_loss improved from 1.42507 to 1.29670, saving model to weights.h5\n",
            "515/515 [==============================] - 11s 22ms/step - loss: 1.3450 - accuracy: 0.3831 - val_loss: 1.2967 - val_accuracy: 0.3937\n",
            "Epoch 8/20\n",
            "514/515 [============================>.] - ETA: 0s - loss: 1.2536 - accuracy: 0.4220\n",
            "Epoch 8: val_loss improved from 1.29670 to 1.24919, saving model to weights.h5\n",
            "515/515 [==============================] - 11s 22ms/step - loss: 1.2542 - accuracy: 0.4217 - val_loss: 1.2492 - val_accuracy: 0.4118\n",
            "Epoch 9/20\n",
            "514/515 [============================>.] - ETA: 0s - loss: 1.2043 - accuracy: 0.4398\n",
            "Epoch 9: val_loss improved from 1.24919 to 1.22883, saving model to weights.h5\n",
            "515/515 [==============================] - 11s 22ms/step - loss: 1.2041 - accuracy: 0.4401 - val_loss: 1.2288 - val_accuracy: 0.4193\n",
            "Epoch 10/20\n",
            "514/515 [============================>.] - ETA: 0s - loss: 1.1728 - accuracy: 0.4416\n",
            "Epoch 10: val_loss improved from 1.22883 to 1.21198, saving model to weights.h5\n",
            "515/515 [==============================] - 12s 22ms/step - loss: 1.1726 - accuracy: 0.4419 - val_loss: 1.2120 - val_accuracy: 0.4182\n",
            "Epoch 11/20\n",
            "513/515 [============================>.] - ETA: 0s - loss: 1.1411 - accuracy: 0.4491\n",
            "Epoch 11: val_loss improved from 1.21198 to 1.18972, saving model to weights.h5\n",
            "515/515 [==============================] - 11s 22ms/step - loss: 1.1413 - accuracy: 0.4494 - val_loss: 1.1897 - val_accuracy: 0.4234\n",
            "Epoch 12/20\n",
            "513/515 [============================>.] - ETA: 0s - loss: 1.1118 - accuracy: 0.4624\n",
            "Epoch 12: val_loss improved from 1.18972 to 1.17321, saving model to weights.h5\n",
            "515/515 [==============================] - 11s 22ms/step - loss: 1.1116 - accuracy: 0.4627 - val_loss: 1.1732 - val_accuracy: 0.4496\n",
            "Epoch 13/20\n",
            "514/515 [============================>.] - ETA: 0s - loss: 1.0672 - accuracy: 0.4885\n",
            "Epoch 13: val_loss improved from 1.17321 to 1.13007, saving model to weights.h5\n",
            "515/515 [==============================] - 11s 22ms/step - loss: 1.0671 - accuracy: 0.4882 - val_loss: 1.1301 - val_accuracy: 0.4607\n",
            "Epoch 14/20\n",
            "514/515 [============================>.] - ETA: 0s - loss: 1.0315 - accuracy: 0.4981\n",
            "Epoch 14: val_loss improved from 1.13007 to 1.11521, saving model to weights.h5\n",
            "515/515 [==============================] - 11s 22ms/step - loss: 1.0314 - accuracy: 0.4983 - val_loss: 1.1152 - val_accuracy: 0.4630\n",
            "Epoch 15/20\n",
            "514/515 [============================>.] - ETA: 0s - loss: 1.0048 - accuracy: 0.5117\n",
            "Epoch 15: val_loss did not improve from 1.11521\n",
            "515/515 [==============================] - 11s 22ms/step - loss: 1.0046 - accuracy: 0.5117 - val_loss: 1.1268 - val_accuracy: 0.4817\n",
            "Epoch 16/20\n",
            "514/515 [============================>.] - ETA: 0s - loss: 0.9610 - accuracy: 0.5591\n",
            "Epoch 16: val_loss improved from 1.11521 to 1.02166, saving model to weights.h5\n",
            "515/515 [==============================] - 11s 22ms/step - loss: 0.9615 - accuracy: 0.5593 - val_loss: 1.0217 - val_accuracy: 0.6506\n",
            "Epoch 17/20\n",
            "514/515 [============================>.] - ETA: 0s - loss: 0.8136 - accuracy: 0.7067\n",
            "Epoch 17: val_loss improved from 1.02166 to 0.85556, saving model to weights.h5\n",
            "515/515 [==============================] - 11s 22ms/step - loss: 0.8135 - accuracy: 0.7069 - val_loss: 0.8556 - val_accuracy: 0.7228\n",
            "Epoch 18/20\n",
            "514/515 [============================>.] - ETA: 0s - loss: 0.7174 - accuracy: 0.7525\n",
            "Epoch 18: val_loss improved from 0.85556 to 0.82124, saving model to weights.h5\n",
            "515/515 [==============================] - 11s 22ms/step - loss: 0.7174 - accuracy: 0.7525 - val_loss: 0.8212 - val_accuracy: 0.7338\n",
            "Epoch 19/20\n",
            "514/515 [============================>.] - ETA: 0s - loss: 0.6604 - accuracy: 0.7733\n",
            "Epoch 19: val_loss improved from 0.82124 to 0.81656, saving model to weights.h5\n",
            "515/515 [==============================] - 11s 22ms/step - loss: 0.6605 - accuracy: 0.7734 - val_loss: 0.8166 - val_accuracy: 0.7327\n",
            "Epoch 20/20\n",
            "514/515 [============================>.] - ETA: 0s - loss: 0.6304 - accuracy: 0.7794\n",
            "Epoch 20: val_loss improved from 0.81656 to 0.79587, saving model to weights.h5\n",
            "515/515 [==============================] - 11s 22ms/step - loss: 0.6303 - accuracy: 0.7792 - val_loss: 0.7959 - val_accuracy: 0.7344\n"
          ]
        }
      ],
      "source": [
        "model_save = ModelCheckpoint('weights.h5', save_best_only = True, save_weights_only = True, monitor = 'val_loss', \n",
        "                             mode = 'min', verbose = 1)\n",
        "history = model.fit(X_train,y_train,validation_data=(X_val,y_val),epochs=50,batch_size=30,callbacks = [model_save])"
      ],
      "id": "dominican-discount"
    },
    {
      "cell_type": "markdown",
      "metadata": {
        "id": "subject-error"
      },
      "source": [
        "# Analysis and visualization of output"
      ],
      "id": "subject-error"
    },
    {
      "cell_type": "code",
      "execution_count": 20,
      "metadata": {
        "colab": {
          "base_uri": "https://localhost:8080/",
          "height": 944
        },
        "id": "stunning-pioneer",
        "outputId": "1f6fd3a2-9323-4144-8c04-8c78a259cf64"
      },
      "outputs": [
        {
          "output_type": "stream",
          "name": "stdout",
          "text": [
            "dict_keys(['loss', 'accuracy', 'val_loss', 'val_accuracy'])\n"
          ]
        },
        {
          "output_type": "display_data",
          "data": {
            "text/plain": [
              "<Figure size 640x480 with 1 Axes>"
            ],
            "image/png": "[encoded data removed]"
          },
          "metadata": {}
        },
        {
          "output_type": "display_data",
          "data": {
            "text/plain": [
              "<Figure size 640x480 with 1 Axes>"
            ],
            "image/png": "[encoded data removed]"
          },
          "metadata": {}
        }
      ],
      "source": [
        "print(history.history.keys())\n",
        "#  \"Accuracy\"\n",
        "plt.plot(history.history['accuracy'])\n",
        "plt.plot(history.history['val_accuracy'])\n",
        "plt.title('model accuracy')\n",
        "plt.ylabel('accuracy')\n",
        "plt.xlabel('epoch')\n",
        "plt.legend(['train', 'validation'], loc='upper left')\n",
        "plt.show()\n",
        "# \"Loss\"\n",
        "plt.plot(history.history['loss'])\n",
        "plt.plot(history.history['val_loss'])\n",
        "plt.title('model loss')\n",
        "plt.ylabel('loss')\n",
        "plt.xlabel('epoch')\n",
        "plt.legend(['train', 'validation'], loc='upper left')\n",
        "plt.show()"
      ],
      "id": "stunning-pioneer"
    },
    {
      "cell_type": "code",
      "execution_count": 21,
      "metadata": {
        "id": "impossible-terror"
      },
      "outputs": [],
      "source": [
        "#Load the best weights\n",
        "model.load_weights('weights.h5')"
      ],
      "id": "impossible-terror"
    },
    {
      "cell_type": "code",
      "execution_count": 22,
      "metadata": {
        "colab": {
          "base_uri": "https://localhost:8080/"
        },
        "id": "based-principle",
        "outputId": "9c1c6db9-ccb1-4b91-8cbc-417fce2c55f8"
      },
      "outputs": [
        {
          "output_type": "stream",
          "name": "stdout",
          "text": [
            "135/135 [==============================] - 2s 7ms/step\n"
          ]
        }
      ],
      "source": [
        "# get predicted probabilities for each class\n",
        "y_pred_prob = model.predict(X_test)\n",
        "\n",
        "# get the class indices of the highest probability\n",
        "y_pred = np.argmax(y_pred_prob, axis=1)"
      ],
      "id": "based-principle"
    },
    {
      "cell_type": "code",
      "execution_count": 23,
      "metadata": {
        "colab": {
          "base_uri": "https://localhost:8080/"
        },
        "id": "julian-freeware",
        "outputId": "cb805ffe-b157-4d85-97f6-b712303099b7"
      },
      "outputs": [
        {
          "output_type": "stream",
          "name": "stdout",
          "text": [
            "0.7483690587138863\n"
          ]
        }
      ],
      "source": [
        "#Accuracy score\n",
        "print(accuracy_score(y_test,y_pred))"
      ],
      "id": "julian-freeware"
    },
    {
      "cell_type": "code",
      "execution_count": 24,
      "metadata": {
        "colab": {
          "base_uri": "https://localhost:8080/"
        },
        "id": "fatty-blues",
        "outputId": "75b38808-0336-487c-e9b1-365ea75cbe51"
      },
      "outputs": [
        {
          "output_type": "stream",
          "name": "stdout",
          "text": [
            "              precision    recall  f1-score   support\n",
            "\n",
            "           0    0.43122   0.90438   0.58399       617\n",
            "           1    0.00000   0.00000   0.00000       531\n",
            "           2    0.91416   0.87907   0.89627      1381\n",
            "           3    0.72464   0.78616   0.75415       318\n",
            "           4    0.89811   0.93187   0.91468      1277\n",
            "           5    0.00000   0.00000   0.00000       168\n",
            "\n",
            "    accuracy                        0.74837      4292\n",
            "   macro avg    0.49469   0.58358   0.52485      4292\n",
            "weighted avg    0.67704   0.74837   0.70036      4292\n",
            "\n"
          ]
        },
        {
          "output_type": "stream",
          "name": "stderr",
          "text": [
            "/usr/local/lib/python3.9/dist-packages/sklearn/metrics/_classification.py:1344: UndefinedMetricWarning: Precision and F-score are ill-defined and being set to 0.0 in labels with no predicted samples. Use `zero_division` parameter to control this behavior.\n",
            "  _warn_prf(average, modifier, msg_start, len(result))\n",
            "/usr/local/lib/python3.9/dist-packages/sklearn/metrics/_classification.py:1344: UndefinedMetricWarning: Precision and F-score are ill-defined and being set to 0.0 in labels with no predicted samples. Use `zero_division` parameter to control this behavior.\n",
            "  _warn_prf(average, modifier, msg_start, len(result))\n",
            "/usr/local/lib/python3.9/dist-packages/sklearn/metrics/_classification.py:1344: UndefinedMetricWarning: Precision and F-score are ill-defined and being set to 0.0 in labels with no predicted samples. Use `zero_division` parameter to control this behavior.\n",
            "  _warn_prf(average, modifier, msg_start, len(result))\n"
          ]
        }
      ],
      "source": [
        "#Classification report\n",
        "print(classification_report(y_test, y_pred, digits=5))"
      ],
      "id": "fatty-blues"
    },
    {
      "cell_type": "code",
      "execution_count": 25,
      "metadata": {
        "colab": {
          "base_uri": "https://localhost:8080/",
          "height": 466
        },
        "id": "gorgeous-framing",
        "outputId": "5a9fbc70-4222-434e-fe83-5ea1aa910adf"
      },
      "outputs": [
        {
          "output_type": "stream",
          "name": "stdout",
          "text": [
            "Confusion Matrix\n",
            "Axes(0.125,0.11;0.62x0.77)\n"
          ]
        },
        {
          "output_type": "display_data",
          "data": {
            "text/plain": [
              "<Figure size 640x480 with 2 Axes>"
            ],
            "image/png": "[encoded data removed]"
          },
          "metadata": {}
        }
      ],
      "source": [
        "#Confusion Matrix\n",
        "print('Confusion Matrix')\n",
        "print(sns.heatmap(confusion_matrix(y_test, y_pred),annot=True,fmt=\"d\"))"
      ],
      "id": "gorgeous-framing"
    },
    {
      "cell_type": "markdown",
      "metadata": {
        "id": "criminal-shepherd"
      },
      "source": [
        "# Test on own"
      ],
      "id": "criminal-shepherd"
    },
    {
      "cell_type": "code",
      "execution_count": 83,
      "metadata": {
        "colab": {
          "base_uri": "https://localhost:8080/"
        },
        "id": "electric-collection",
        "outputId": "191f33a4-654d-4a1d-d272-abd5b7fc18a2"
      },
      "outputs": [
        {
          "output_type": "stream",
          "name": "stdout",
          "text": [
            "{'anger': 0, 'fear': 1, 'happy': 2, 'love': 3, 'sadness': 4, 'surprise': 5}\n"
          ]
        }
      ],
      "source": [
        "#Mapping of target classes using label-encoder\n",
        "le_name_mapping = dict(zip(label_encoder.classes_, label_encoder.transform(label_encoder.classes_)))\n",
        "print(le_name_mapping)"
      ],
      "id": "electric-collection"
    },
    {
      "cell_type": "code",
      "execution_count": 86,
      "metadata": {
        "id": "tribal-thriller"
      },
      "outputs": [],
      "source": [
        "#Example\n",
        "def predict_emotion(stri):\n",
        "    review = re.sub('[^a-zA-Z]', ' ', stri)\n",
        "    review = review.lower()\n",
        "    review = review.split()\n",
        "    review = [ps.stem(word) for word in review if not word in stopwords.words('english')]\n",
        "    review = ' '.join(review)\n",
        "    # print(review)\n",
        "    onehot_repr = [one_hot(review,voc_size)] \n",
        "    # print(onehot_repr)\n",
        "    embed = pad_sequences(onehot_repr,padding='pre',maxlen=sent_length)\n",
        "    # print(embed)\n",
        "    predicti = model.predict(embed)\n",
        "    # print(predicti)\n",
        "    return label_encoder.classes_[np.argmax(predicti)]"
      ],
      "id": "tribal-thriller"
    },
    {
      "cell_type": "code",
      "execution_count": 87,
      "metadata": {
        "colab": {
          "base_uri": "https://localhost:8080/",
          "height": 157
        },
        "id": "stupid-sacrifice",
        "outputId": "da455419-1999-4d43-d1d1-bad826518726"
      },
      "outputs": [
        {
          "output_type": "stream",
          "name": "stdout",
          "text": [
            "happi today\n",
            "[[2492, 5791]]\n",
            "[[   0    0    0    0    0    0    0    0    0    0    0    0    0    0\n",
            "     0    0    0    0    0    0    0    0    0    0    0    0    0    0\n",
            "     0    0    0    0    0 2492 5791]]\n",
            "1/1 [==============================] - 0s 26ms/step\n",
            "[[0.14348501 0.12426582 0.32340613 0.07797647 0.28918532 0.04168118]]\n"
          ]
        },
        {
          "output_type": "execute_result",
          "data": {
            "text/plain": [
              "'happy'"
            ],
            "application/vnd.google.colaboratory.intrinsic+json": {
              "type": "string"
            }
          },
          "metadata": {},
          "execution_count": 87
        }
      ],
      "source": [
        "predict_emotion('I am very happy today')"
      ],
      "id": "stupid-sacrifice"
    },
    {
      "cell_type": "code",
      "execution_count": 32,
      "metadata": {
        "colab": {
          "base_uri": "https://localhost:8080/"
        },
        "id": "every-premium",
        "outputId": "25248ecb-0132-4102-e38c-3657cee62b89"
      },
      "outputs": [
        {
          "output_type": "stream",
          "name": "stdout",
          "text": [
            "1/1 [==============================] - 0s 28ms/step\n"
          ]
        },
        {
          "output_type": "execute_result",
          "data": {
            "text/plain": [
              "0"
            ]
          },
          "metadata": {},
          "execution_count": 32
        }
      ],
      "source": [
        "predict_emotion('He is an arrogant and rude person')"
      ],
      "id": "every-premium"
    },
    {
      "cell_type": "code",
      "execution_count": 33,
      "metadata": {
        "colab": {
          "base_uri": "https://localhost:8080/"
        },
        "id": "worth-stanford",
        "outputId": "7c643014-c73d-4e53-ee40-e9442e96f447"
      },
      "outputs": [
        {
          "output_type": "stream",
          "name": "stdout",
          "text": [
            "1/1 [==============================] - 0s 26ms/step\n"
          ]
        },
        {
          "output_type": "execute_result",
          "data": {
            "text/plain": [
              "1"
            ]
          },
          "metadata": {},
          "execution_count": 33
        }
      ],
      "source": [
        "predict_emotion('ALL THAT SWEET KARMA!')"
      ],
      "id": "worth-stanford"
    },
    {
      "cell_type": "code",
      "execution_count": 56,
      "metadata": {
        "colab": {
          "base_uri": "https://localhost:8080/"
        },
        "id": "zO-DMN0aL4dV",
        "outputId": "c0eba7e5-ddab-47e2-af29-f8207fbfa4f4"
      },
      "outputs": [
        {
          "output_type": "stream",
          "name": "stdout",
          "text": [
            "hello\n",
            "[[459]]\n",
            "[[  0   0   0   0   0   0   0   0   0   0   0   0   0   0   0   0   0   0\n",
            "    0   0   0   0   0   0   0   0   0   0   0   0   0   0   0   0 459]]\n",
            "1/1 [==============================] - 0s 28ms/step\n",
            "[[0.11390027 0.6156983  0.09245743 0.01362353 0.08100274 0.08331777]]\n"
          ]
        },
        {
          "output_type": "execute_result",
          "data": {
            "text/plain": [
              "1"
            ]
          },
          "metadata": {},
          "execution_count": 56
        }
      ],
      "source": [
        "predict_emotion('Hello')"
      ],
      "id": "zO-DMN0aL4dV"
    },
    {
      "cell_type": "code",
      "execution_count": 26,
      "metadata": {
        "id": "D2RZIUD4JOw8",
        "colab": {
          "base_uri": "https://localhost:8080/"
        },
        "outputId": "cebae7fe-4c36-406d-f90c-96b8fd45e9b9"
      },
      "outputs": [
        {
          "output_type": "stream",
          "name": "stderr",
          "text": [
            "WARNING:absl:Found untraced functions such as _update_step_xla, lstm_cell_1_layer_call_fn, lstm_cell_1_layer_call_and_return_conditional_losses, lstm_cell_2_layer_call_fn, lstm_cell_2_layer_call_and_return_conditional_losses while saving (showing 5 of 5). These functions will not be directly callable after loading.\n"
          ]
        }
      ],
      "source": [
        "model.save('my_model')"
      ],
      "id": "D2RZIUD4JOw8"
    },
    {
      "cell_type": "code",
      "source": [
        "import shutil\n",
        "shutil.make_archive('my_model', 'zip', 'my_model')\n"
      ],
      "metadata": {
        "colab": {
          "base_uri": "https://localhost:8080/",
          "height": 36
        },
        "id": "fN1tTe5SSKUF",
        "outputId": "6617a34d-b843-4c08-d8f7-d2cc4e4cbce1"
      },
      "id": "fN1tTe5SSKUF",
      "execution_count": 27,
      "outputs": [
        {
          "output_type": "execute_result",
          "data": {
            "text/plain": [
              "'/content/my_model.zip'"
            ],
            "application/vnd.google.colaboratory.intrinsic+json": {
              "type": "string"
            }
          },
          "metadata": {},
          "execution_count": 27
        }
      ]
    },
    {
      "cell_type": "markdown",
      "metadata": {
        "id": "59FMRbqiA85-"
      },
      "source": [
        "# Load MySQL Data"
      ],
      "id": "59FMRbqiA85-"
    },
    {
      "cell_type": "code",
      "execution_count": null,
      "metadata": {
        "colab": {
          "base_uri": "https://localhost:8080/"
        },
        "id": "dDlHVk2BA-cF",
        "outputId": "a2d3c446-c454-4006-b392-a2c42550e378"
      },
      "outputs": [
        {
          "name": "stdout",
          "output_type": "stream",
          "text": [
            "Looking in indexes: https://pypi.org/simple, https://us-python.pkg.dev/colab-wheels/public/simple/\n",
            "Requirement already satisfied: mysql-connector-python in /usr/local/lib/python3.9/dist-packages (8.0.33)\n",
            "Requirement already satisfied: protobuf<=3.20.3,>=3.11.0 in /usr/local/lib/python3.9/dist-packages (from mysql-connector-python) (3.20.3)\n"
          ]
        }
      ],
      "source": [
        "# !pip install mysql-connector-python"
      ],
      "id": "dDlHVk2BA-cF"
    },
    {
      "cell_type": "code",
      "execution_count": null,
      "metadata": {
        "id": "ElQJvWBqA-6m"
      },
      "outputs": [],
      "source": [
        "# import mysql.connector"
      ],
      "id": "ElQJvWBqA-6m"
    },
    {
      "cell_type": "code",
      "execution_count": null,
      "metadata": {
        "colab": {
          "background_save": true,
          "base_uri": "https://localhost:8080/"
        },
        "id": "Xz2Sc2yOBAou",
        "outputId": "34434b26-0488-4ed1-89e3-3db453ef5525"
      },
      "outputs": [
        {
          "name": "stderr",
          "output_type": "stream",
          "text": [
            "<ipython-input-8-cadb878b7c6a>:10: UserWarning: pandas only supports SQLAlchemy connectable (engine/connection) or database string URI or sqlite3 DBAPI2 connection. Other DBAPI2 objects are not tested. Please consider using SQLAlchemy.\n",
            "  result_dataFrame = pd.read_sql(query,mydb)\n"
          ]
        }
      ],
      "source": [
        "# mydb = mysql.connector.connect(\n",
        "#   host=\"ls-EXAMPLE\",\n",
        "#   user=\"EXAMPLE\",\n",
        "#   password=\"EXAMPLE\",\n",
        "#   database=\"EXAMPLE\"\n",
        "# )\n",
        "\n",
        "# try:\n",
        "#     query = \"Select body from EXAMPLE;\"\n",
        "#     result_dataFrame = pd.read_sql(query,mydb)\n",
        "#     mydb.close() #close the connection\n",
        "#     print(result_dataFrame.head())\n",
        "# except Exception as e:\n",
        "#     mydb.close()\n",
        "#     print(str(e))"
      ],
      "id": "Xz2Sc2yOBAou"
    },
    {
      "cell_type": "code",
      "source": [
        "# result_dataFrame['labels']=result_dataFrame['body'].apply(predict)"
      ],
      "metadata": {
        "id": "_o2wJHRfcLBV"
      },
      "id": "_o2wJHRfcLBV",
      "execution_count": null,
      "outputs": []
    }
  ],
  "metadata": {
    "accelerator": "TPU",
    "colab": {
      "collapsed_sections": [
        "delayed-validation",
        "vietnamese-confidentiality",
        "subject-error"
      ],
      "machine_shape": "hm",
      "provenance": []
    },
    "gpuClass": "standard",
    "kernelspec": {
      "display_name": "Python 3",
      "language": "python",
      "name": "python3"
    },
    "language_info": {
      "codemirror_mode": {
        "name": "ipython",
        "version": 3
      },
      "file_extension": ".py",
      "mimetype": "text/x-python",
      "name": "python",
      "nbconvert_exporter": "python",
      "pygments_lexer": "ipython3",
      "version": "3.7.10"
    },
    "papermill": {
      "default_parameters": {},
      "duration": 270.006212,
      "end_time": "2021-05-21T07:01:08.314539",
      "environment_variables": {},
      "exception": null,
      "input_path": "__notebook__.ipynb",
      "output_path": "__notebook__.ipynb",
      "parameters": {},
      "start_time": "2021-05-21T06:56:38.308327",
      "version": "2.3.3"
    }
  },
  "nbformat": 4,
  "nbformat_minor": 5
}
