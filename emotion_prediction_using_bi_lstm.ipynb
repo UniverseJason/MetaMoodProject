{
  "cells": [
    {
      "cell_type": "markdown",
      "metadata": {
        "id": "RPKMEPzuygdK"
      },
      "source": [
        "# Text Emotion Labeler\n",
        "## Bryce Hinkley\n",
        "### UTSA Computer Science - Large Scale Database Management\n",
        "### Spring 2023\n",
        "\n",
        "This script is for creating a neural network that can be used to input text to assign one of 7 labels.\n",
        "\n",
        "The seed is very important because if you have a different seed the one_hot can change and you will have a different type of result even when uploading the same model."
      ],
      "id": "RPKMEPzuygdK"
    },
    {
      "cell_type": "markdown",
      "metadata": {
        "id": "delayed-validation"
      },
      "source": [
        "# Import libraries"
      ],
      "id": "delayed-validation"
    },
    {
      "cell_type": "code",
      "execution_count": null,
      "metadata": {
        "id": "polyphonic-address"
      },
      "outputs": [],
      "source": [
        "import numpy as np\n",
        "import pandas as pd \n",
        "import tensorflow as tf\n",
        "import nltk\n",
        "import seaborn as sns\n",
        "import re\n",
        "import matplotlib.pyplot as plt\n",
        "import concurrent.futures\n",
        "from IPython.display import clear_output\n",
        "import os\n",
        "import pickle\n",
        "\n",
        "# import keras\n",
        "from tensorflow.keras.layers import Embedding, Dense, LSTM, Dropout, Bidirectional\n",
        "from tensorflow.keras.preprocessing.sequence import pad_sequences\n",
        "from tensorflow.keras.models import Sequential\n",
        "from tensorflow.keras.preprocessing.text import one_hot, Tokenizer\n",
        "from tensorflow.keras.callbacks import ModelCheckpoint\n",
        "from nltk.corpus import stopwords\n",
        "from nltk.stem.porter import PorterStemmer\n",
        "from sklearn import preprocessing\n",
        "from sklearn.model_selection import train_test_split\n",
        "from sklearn.metrics import accuracy_score, classification_report, confusion_matrix\n",
        "import random as rn\n",
        "\n",
        "# Set the seed for numpy, tensorflow, and random\n",
        "np.random.seed(0)\n",
        "rn.seed(0)\n",
        "tf.random.set_seed(0)"
      ],
      "id": "polyphonic-address"
    },
    {
      "cell_type": "markdown",
      "metadata": {
        "id": "BE38KEIAodLn"
      },
      "source": [
        "This is completely optional. I personally use it because I don't want to mount the Google Drive repeatedly and have the box pop up, plus it makes it easy to share the file with other people. So instead of needing the files on your Drive you should be able to download them that are publicly available on my Drive. Feel free to download onto a local machine them if you need them though."
      ],
      "id": "BE38KEIAodLn"
    },
    {
      "cell_type": "code",
      "execution_count": null,
      "metadata": {
        "id": "GpY0SYCg79Uw"
      },
      "outputs": [],
      "source": [
        "!gdown --id 1udpdz9IyUAOgPbLzDmRnf17qI87tPpmd\n",
        "!gdown --id 1goJShSS2bXxm6ExIKQXGLqIabUTzcSaA\n",
        "# # https://drive.google.com/file/d/1goJShSS2bXxm6ExIKQXGLqIabUTzcSaA/view?usp=sharing"
      ],
      "id": "GpY0SYCg79Uw"
    },
    {
      "cell_type": "markdown",
      "metadata": {
        "id": "involved-satisfaction"
      },
      "source": [
        "# Read and clean data"
      ],
      "id": "involved-satisfaction"
    },
    {
      "cell_type": "code",
      "execution_count": null,
      "metadata": {
        "colab": {
          "base_uri": "https://localhost:8080/",
          "height": 206
        },
        "id": "intensive-developer",
        "outputId": "ce6d95ca-e0e7-4c6e-db6c-b330ba32d9d6"
      },
      "outputs": [
        {
          "output_type": "execute_result",
          "data": {
            "text/plain": [
              "                                                Text  Emotion\n",
              "0                            i didnt feel humiliated  sadness\n",
              "1  i can go from feeling so hopeless to so damned...  sadness\n",
              "2   im grabbing a minute to post i feel greedy wrong    anger\n",
              "3  i am ever feeling nostalgic about the fireplac...     love\n",
              "4                               i am feeling grouchy    anger"
            ],
            "text/html": [
              "\n",
              "  <div id=\"df-7a307b60-e728-4186-ba85-ec11ffcf417d\">\n",
              "    <div class=\"colab-df-container\">\n",
              "      <div>\n",
              "<style scoped>\n",
              "    .dataframe tbody tr th:only-of-type {\n",
              "        vertical-align: middle;\n",
              "    }\n",
              "\n",
              "    .dataframe tbody tr th {\n",
              "        vertical-align: top;\n",
              "    }\n",
              "\n",
              "    .dataframe thead th {\n",
              "        text-align: right;\n",
              "    }\n",
              "</style>\n",
              "<table border=\"1\" class=\"dataframe\">\n",
              "  <thead>\n",
              "    <tr style=\"text-align: right;\">\n",
              "      <th></th>\n",
              "      <th>Text</th>\n",
              "      <th>Emotion</th>\n",
              "    </tr>\n",
              "  </thead>\n",
              "  <tbody>\n",
              "    <tr>\n",
              "      <th>0</th>\n",
              "      <td>i didnt feel humiliated</td>\n",
              "      <td>sadness</td>\n",
              "    </tr>\n",
              "    <tr>\n",
              "      <th>1</th>\n",
              "      <td>i can go from feeling so hopeless to so damned...</td>\n",
              "      <td>sadness</td>\n",
              "    </tr>\n",
              "    <tr>\n",
              "      <th>2</th>\n",
              "      <td>im grabbing a minute to post i feel greedy wrong</td>\n",
              "      <td>anger</td>\n",
              "    </tr>\n",
              "    <tr>\n",
              "      <th>3</th>\n",
              "      <td>i am ever feeling nostalgic about the fireplac...</td>\n",
              "      <td>love</td>\n",
              "    </tr>\n",
              "    <tr>\n",
              "      <th>4</th>\n",
              "      <td>i am feeling grouchy</td>\n",
              "      <td>anger</td>\n",
              "    </tr>\n",
              "  </tbody>\n",
              "</table>\n",
              "</div>\n",
              "      <button class=\"colab-df-convert\" onclick=\"convertToInteractive('df-7a307b60-e728-4186-ba85-ec11ffcf417d')\"\n",
              "              title=\"Convert this dataframe to an interactive table.\"\n",
              "              style=\"display:none;\">\n",
              "        \n",
              "  <svg xmlns=\"http://www.w3.org/2000/svg\" height=\"24px\"viewBox=\"0 0 24 24\"\n",
              "       width=\"24px\">\n",
              "    <path d=\"M0 0h24v24H0V0z\" fill=\"none\"/>\n",
              "    <path d=\"M18.56 5.44l.94 2.06.94-2.06 2.06-.94-2.06-.94-.94-2.06-.94 2.06-2.06.94zm-11 1L8.5 8.5l.94-2.06 2.06-.94-2.06-.94L8.5 2.5l-.94 2.06-2.06.94zm10 10l.94 2.06.94-2.06 2.06-.94-2.06-.94-.94-2.06-.94 2.06-2.06.94z\"/><path d=\"M17.41 7.96l-1.37-1.37c-.4-.4-.92-.59-1.43-.59-.52 0-1.04.2-1.43.59L10.3 9.45l-7.72 7.72c-.78.78-.78 2.05 0 2.83L4 21.41c.39.39.9.59 1.41.59.51 0 1.02-.2 1.41-.59l7.78-7.78 2.81-2.81c.8-.78.8-2.07 0-2.86zM5.41 20L4 18.59l7.72-7.72 1.47 1.35L5.41 20z\"/>\n",
              "  </svg>\n",
              "      </button>\n",
              "      \n",
              "  <style>\n",
              "    .colab-df-container {\n",
              "      display:flex;\n",
              "      flex-wrap:wrap;\n",
              "      gap: 12px;\n",
              "    }\n",
              "\n",
              "    .colab-df-convert {\n",
              "      background-color: #E8F0FE;\n",
              "      border: none;\n",
              "      border-radius: 50%;\n",
              "      cursor: pointer;\n",
              "      display: none;\n",
              "      fill: #1967D2;\n",
              "      height: 32px;\n",
              "      padding: 0 0 0 0;\n",
              "      width: 32px;\n",
              "    }\n",
              "\n",
              "    .colab-df-convert:hover {\n",
              "      background-color: #E2EBFA;\n",
              "      box-shadow: 0px 1px 2px rgba(60, 64, 67, 0.3), 0px 1px 3px 1px rgba(60, 64, 67, 0.15);\n",
              "      fill: #174EA6;\n",
              "    }\n",
              "\n",
              "    [theme=dark] .colab-df-convert {\n",
              "      background-color: #3B4455;\n",
              "      fill: #D2E3FC;\n",
              "    }\n",
              "\n",
              "    [theme=dark] .colab-df-convert:hover {\n",
              "      background-color: #434B5C;\n",
              "      box-shadow: 0px 1px 3px 1px rgba(0, 0, 0, 0.15);\n",
              "      filter: drop-shadow(0px 1px 2px rgba(0, 0, 0, 0.3));\n",
              "      fill: #FFFFFF;\n",
              "    }\n",
              "  </style>\n",
              "\n",
              "      <script>\n",
              "        const buttonEl =\n",
              "          document.querySelector('#df-7a307b60-e728-4186-ba85-ec11ffcf417d button.colab-df-convert');\n",
              "        buttonEl.style.display =\n",
              "          google.colab.kernel.accessAllowed ? 'block' : 'none';\n",
              "\n",
              "        async function convertToInteractive(key) {\n",
              "          const element = document.querySelector('#df-7a307b60-e728-4186-ba85-ec11ffcf417d');\n",
              "          const dataTable =\n",
              "            await google.colab.kernel.invokeFunction('convertToInteractive',\n",
              "                                                     [key], {});\n",
              "          if (!dataTable) return;\n",
              "\n",
              "          const docLinkHtml = 'Like what you see? Visit the ' +\n",
              "            '<a target=\"_blank\" href=https://colab.research.google.com/notebooks/data_table.ipynb>data table notebook</a>'\n",
              "            + ' to learn more about interactive tables.';\n",
              "          element.innerHTML = '';\n",
              "          dataTable['output_type'] = 'display_data';\n",
              "          await google.colab.output.renderOutput(dataTable, element);\n",
              "          const docLink = document.createElement('div');\n",
              "          docLink.innerHTML = docLinkHtml;\n",
              "          element.appendChild(docLink);\n",
              "        }\n",
              "      </script>\n",
              "    </div>\n",
              "  </div>\n",
              "  "
            ]
          },
          "metadata": {},
          "execution_count": 70
        }
      ],
      "source": [
        "df=pd.read_csv('emotion_final.csv') #Text data\n",
        "EMBEDDING_FILE= f'glove.6B.100d.txt' #GloVe file path\n",
        "df.head()"
      ],
      "id": "intensive-developer"
    },
    {
      "cell_type": "code",
      "execution_count": null,
      "metadata": {
        "colab": {
          "base_uri": "https://localhost:8080/",
          "height": 466
        },
        "id": "agreed-pathology",
        "outputId": "13cfa8bb-d589-4f0b-a2ca-3e53ea9b60c8"
      },
      "outputs": [
        {
          "output_type": "execute_result",
          "data": {
            "text/plain": [
              "<Axes: xlabel='Emotion', ylabel='count'>"
            ]
          },
          "metadata": {},
          "execution_count": 71
        },
        {
          "output_type": "display_data",
          "data": {
            "text/plain": [
              "<Figure size 640x480 with 1 Axes>"
            ],
            "image/png": "[encoded data removed]"
          },
          "metadata": {}
        }
      ],
      "source": [
        "#Target Classes\n",
        "sns.countplot(x = \"Emotion\", data = df)"
      ],
      "id": "agreed-pathology"
    },
    {
      "cell_type": "code",
      "execution_count": null,
      "metadata": {
        "id": "attached-disco"
      },
      "outputs": [],
      "source": [
        "df=df.dropna() #Drop columns with NA values\n",
        "X=df.drop('Emotion',axis=1) #Input\n",
        "y=df['Emotion'] #Output"
      ],
      "id": "attached-disco"
    },
    {
      "cell_type": "code",
      "execution_count": null,
      "metadata": {
        "id": "martial-affairs"
      },
      "outputs": [],
      "source": [
        "messages=X.copy()\n",
        "messages.reset_index(inplace=True) #Drop NA may cause inconsistency in index"
      ],
      "id": "martial-affairs"
    },
    {
      "cell_type": "code",
      "execution_count": null,
      "metadata": {
        "colab": {
          "base_uri": "https://localhost:8080/"
        },
        "id": "comparative-province",
        "outputId": "f2c09d3b-e6fa-40d2-96cd-be6eb0990183"
      },
      "outputs": [
        {
          "output_type": "stream",
          "name": "stderr",
          "text": [
            "[nltk_data] Downloading package stopwords to /root/nltk_data...\n",
            "[nltk_data]   Package stopwords is already up-to-date!\n"
          ]
        }
      ],
      "source": [
        "nltk.download('stopwords')\n",
        "ps = PorterStemmer()\n",
        "corpus = []\n",
        "for i in range(0, len(messages)):\n",
        "    review = re.sub('[^a-zA-Z]', ' ', messages['Text'][i]) #Remove Special Characters\n",
        "    review = review.lower() #Lower case \n",
        "    review = review.split()\n",
        "    review = [ps.stem(word) for word in review if not word in stopwords.words('english')] #Remove stopwords\n",
        "    review = ' '.join(review)\n",
        "    corpus.append(review)"
      ],
      "id": "comparative-province"
    },
    {
      "cell_type": "code",
      "execution_count": null,
      "metadata": {
        "colab": {
          "base_uri": "https://localhost:8080/"
        },
        "id": "ancient-magic",
        "outputId": "4e69cd7c-326e-41c1-f37b-33d1d8a1d369"
      },
      "outputs": [
        {
          "output_type": "execute_result",
          "data": {
            "text/plain": [
              "['didnt feel humili',\n",
              " 'go feel hopeless damn hope around someon care awak',\n",
              " 'im grab minut post feel greedi wrong',\n",
              " 'ever feel nostalg fireplac know still properti',\n",
              " 'feel grouchi',\n",
              " 'ive feel littl burden late wasnt sure',\n",
              " 'ive take milligram time recommend amount ive fallen asleep lot faster also feel like funni',\n",
              " 'feel confus life teenag jade year old man',\n",
              " 'petrona year feel petrona perform well made huge profit',\n",
              " 'feel romant']"
            ]
          },
          "metadata": {},
          "execution_count": 75
        }
      ],
      "source": [
        "corpus[:10]"
      ],
      "id": "ancient-magic"
    },
    {
      "cell_type": "markdown",
      "metadata": {
        "id": "armed-inquiry"
      },
      "source": [
        "# Embedding layer using GloVe "
      ],
      "id": "armed-inquiry"
    },
    {
      "cell_type": "code",
      "execution_count": null,
      "metadata": {
        "colab": {
          "base_uri": "https://localhost:8080/"
        },
        "id": "european-convention",
        "outputId": "acea9bcf-fb67-4022-c3a4-cb237248d180"
      },
      "outputs": [
        {
          "output_type": "stream",
          "name": "stderr",
          "text": [
            "/usr/local/lib/python3.10/dist-packages/IPython/core/interactiveshell.py:3473: FutureWarning: arrays to stack must be passed as a \"sequence\" type such as list or tuple. Support for non-sequence iterables such as generators is deprecated as of NumPy 1.16 and will raise an error in the future.\n",
            "  if (await self.run_code(code, result,  async_=asy)):\n"
          ]
        },
        {
          "output_type": "stream",
          "name": "stdout",
          "text": [
            "0.004451992 0.4081574\n"
          ]
        }
      ],
      "source": [
        "#Creating the dictionary with word as key and pretrained-value array as value\n",
        "def get_coefs(word,*arr): return word, np.asarray(arr, dtype='float32')\n",
        "embeddings_index = dict(get_coefs(*o.strip().split()) for o in open(EMBEDDING_FILE))\n",
        "\n",
        "#Calculate mean and std for the pretrained weights\n",
        "all_embs = np.stack(embeddings_index.values())\n",
        "emb_mean,emb_std = all_embs.mean(), all_embs.std()\n",
        "print(emb_mean,emb_std)"
      ],
      "id": "european-convention"
    },
    {
      "cell_type": "code",
      "execution_count": null,
      "metadata": {
        "id": "controversial-daily"
      },
      "outputs": [],
      "source": [
        "voc_size=10000 # Vocabulary size\n",
        "embed_size=100 #word vector size\n",
        "\n",
        "tokenizer = Tokenizer(num_words=voc_size)\n",
        "tokenizer.fit_on_texts(list(corpus))\n",
        "word_index = tokenizer.word_index #Total words in the corpus\n",
        "nb_words = min(voc_size, len(word_index))\n",
        "\n",
        "#Initialize weight matrix for embedding layer\n",
        "embedding_matrix = np.random.normal(emb_mean, emb_std, (nb_words, embed_size)) \n",
        "\n",
        "for word, i in word_index.items():\n",
        "    if i >= voc_size: continue #Skip the words if vocab size is reached\n",
        "    embedding_vector = embeddings_index.get(word) #Extract the pretrained values from GloVe\n",
        "    if embedding_vector is not None: embedding_matrix[i] = embedding_vector\n",
        "# np.save('embedding_matrix.npy', embedding_matrix)\n"
      ],
      "id": "controversial-daily"
    },
    {
      "cell_type": "code",
      "execution_count": null,
      "metadata": {
        "colab": {
          "base_uri": "https://localhost:8080/"
        },
        "id": "juvenile-breeding",
        "outputId": "d77e8f79-16d5-45a2-95a9-ede5c18d22e0"
      },
      "outputs": [
        {
          "output_type": "execute_result",
          "data": {
            "text/plain": [
              "10000"
            ]
          },
          "metadata": {},
          "execution_count": 78
        }
      ],
      "source": [
        "#Contains the pretrained GloVe weights for the words\n",
        "len(embedding_matrix)"
      ],
      "id": "juvenile-breeding"
    },
    {
      "cell_type": "code",
      "source": [],
      "metadata": {
        "id": "WJkpOf57PZHE"
      },
      "id": "WJkpOf57PZHE",
      "execution_count": null,
      "outputs": []
    },
    {
      "cell_type": "markdown",
      "metadata": {
        "id": "coordinated-female"
      },
      "source": [
        "# Process Input-Output data"
      ],
      "id": "coordinated-female"
    },
    {
      "cell_type": "code",
      "execution_count": null,
      "metadata": {
        "colab": {
          "base_uri": "https://localhost:8080/"
        },
        "id": "universal-ordinary",
        "outputId": "2b1c040d-0e79-47e3-9f0d-92d7c0922b07"
      },
      "outputs": [
        {
          "output_type": "stream",
          "name": "stdout",
          "text": [
            "[[   0    0    0 ...   64    1  563]\n",
            " [   0    0    0 ...   63  101 1285]\n",
            " [   0    0    0 ...    1  461  206]\n",
            " ...\n",
            " [   0    0    0 ... 6648  167  725]\n",
            " [   0    0    0 ...   34  109  725]\n",
            " [   0    0    0 ...    0    0  725]]\n"
          ]
        }
      ],
      "source": [
        "#One hot representation for input\n",
        "seq = []\n",
        "for word in corpus:\n",
        "    seq.extend(tokenizer.texts_to_sequences([word]))\n",
        "# print(seq)\n",
        "# padded_seq = pad_sequences(seq, padding='pre', maxlen=sent_length)\n",
        "# with open('onehot_repr.pkl', 'wb') as f:\n",
        "#     pickle.dump(onehot_repr, f)\n",
        "#Finding max words\n",
        "l = 0\n",
        "for x in corpus:\n",
        "    l = max(l,len(x.split(' ')))\n",
        "\n",
        "#Padding the sequences for input\n",
        "sent_length= l\n",
        "embedded_docs=pad_sequences(seq,padding='pre',maxlen=sent_length)\n",
        "print(embedded_docs)"
      ],
      "id": "universal-ordinary"
    },
    {
      "cell_type": "code",
      "execution_count": null,
      "metadata": {
        "colab": {
          "base_uri": "https://localhost:8080/"
        },
        "id": "agreed-inspiration",
        "outputId": "503a9a31-140b-43a6-fef7-15d72c88ec08"
      },
      "outputs": [
        {
          "output_type": "stream",
          "name": "stdout",
          "text": [
            "[4 4 0 ... 1 1 1]\n"
          ]
        }
      ],
      "source": [
        "#Encoding the target outputs to integers\n",
        "label_encoder = preprocessing.LabelEncoder()\n",
        "\n",
        "X_final=np.array(embedded_docs) #input to array\n",
        "y = label_encoder.fit_transform(y)\n",
        "y_final=np.array(y)\n",
        "print(y_final)\n",
        "# with open('label_encoder.pkl', 'wb') as f:\n",
        "#     pickle.dump(label_encoder, f)\n"
      ],
      "id": "agreed-inspiration"
    },
    {
      "cell_type": "code",
      "execution_count": null,
      "metadata": {
        "id": "increasing-apparatus"
      },
      "outputs": [],
      "source": [
        "# X_final.shape,y_final.shape"
      ],
      "id": "increasing-apparatus"
    },
    {
      "cell_type": "code",
      "execution_count": null,
      "metadata": {
        "id": "inappropriate-young"
      },
      "outputs": [],
      "source": [
        "#Train-Test split\n",
        "X_train, X_test, y_train, y_test = train_test_split(X_final, y_final, \n",
        "                                                    test_size=0.2, random_state=42) \n",
        "#Train-Validation split\n",
        "X_train, X_val, y_train, y_val = train_test_split(X_train, y_train, \n",
        "                                                  test_size=0.1, random_state=21) "
      ],
      "id": "inappropriate-young"
    },
    {
      "cell_type": "markdown",
      "metadata": {
        "id": "vietnamese-confidentiality"
      },
      "source": [
        "# Create and train model"
      ],
      "id": "vietnamese-confidentiality"
    },
    {
      "cell_type": "code",
      "source": [
        "\n",
        "# from tensorflow.keras.layers import Layer\n",
        "\n",
        "# class PaddingLayer(Layer):\n",
        "#     def __init__(self, maxlen, **kwargs):\n",
        "#         super(PaddingLayer, self).__init__(**kwargs)\n",
        "#         self.maxlen = maxlen\n",
        "\n",
        "#     def call(self, inputs):\n",
        "#         padded_inputs = tf.keras.preprocessing.sequence.pad_sequences(\n",
        "#             inputs, maxlen=self.maxlen, padding='post', truncating='post')\n",
        "#         return padded_inputs\n",
        "\n",
        "#     def get_config(self):\n",
        "#         config = super(PaddingLayer, self).get_config()\n",
        "#         config.update({'maxlen': self.maxlen})\n",
        "#         return config\n",
        "with open('tokenizer.pkl', 'wb') as f:\n",
        "    pickle.dump(tokenizer, f)\n",
        "\n",
        "with open('label_encoder.pkl', 'wb') as f:\n",
        "    pickle.dump(label_encoder, f)"
      ],
      "metadata": {
        "id": "K1PttfxZ4AWj"
      },
      "id": "K1PttfxZ4AWj",
      "execution_count": null,
      "outputs": []
    },
    {
      "cell_type": "code",
      "execution_count": null,
      "metadata": {
        "colab": {
          "base_uri": "https://localhost:8080/"
        },
        "id": "designed-picnic",
        "outputId": "e0d9ec72-5c6f-4dd2-e2bd-bb8deab901a6"
      },
      "outputs": [
        {
          "output_type": "stream",
          "name": "stdout",
          "text": [
            "Model: \"sequential_1\"\n",
            "_________________________________________________________________\n",
            " Layer (type)                Output Shape              Param #   \n",
            "=================================================================\n",
            " embedding_1 (Embedding)     (None, None, 100)         1000000   \n",
            "                                                                 \n",
            " dropout_3 (Dropout)         (None, None, 100)         0         \n",
            "                                                                 \n",
            " bidirectional_1 (Bidirectio  (None, 128)              84480     \n",
            " nal)                                                            \n",
            "                                                                 \n",
            " dropout_4 (Dropout)         (None, 128)               0         \n",
            "                                                                 \n",
            " dense_2 (Dense)             (None, 64)                8256      \n",
            "                                                                 \n",
            " dropout_5 (Dropout)         (None, 64)                0         \n",
            "                                                                 \n",
            " dense_3 (Dense)             (None, 6)                 390       \n",
            "                                                                 \n",
            "=================================================================\n",
            "Total params: 1,093,126\n",
            "Trainable params: 1,093,126\n",
            "Non-trainable params: 0\n",
            "_________________________________________________________________\n"
          ]
        }
      ],
      "source": [
        "# Creating model\n",
        "model=Sequential()\n",
        "# model.add(PaddingLayer(maxlen=maxlen))\n",
        "# model.add(Hashing(voc_size, input_shape=(maxlen,), output_mode='one_hot'))\n",
        "model.add(Embedding(voc_size, embed_size, weights=[embedding_matrix]))\n",
        "model.add(Dropout(0.3))\n",
        "model.add(Bidirectional(LSTM(64)))\n",
        "model.add(Dropout(0.3))\n",
        "model.add(Dense(64, activation='relu',kernel_regularizer=tf.keras.regularizers.l1(0.01))) #L1 regularization\n",
        "model.add(Dropout(0.3))\n",
        "model.add(Dense(6,activation='softmax'))\n",
        "model.compile(loss='sparse_categorical_crossentropy',optimizer= tf.keras.optimizers.Adam(learning_rate=0.001),\n",
        "              metrics=['accuracy'])\n",
        "model.summary()"
      ],
      "id": "designed-picnic"
    },
    {
      "cell_type": "code",
      "execution_count": null,
      "metadata": {
        "id": "6JDMFujP99cq"
      },
      "outputs": [],
      "source": [
        "#!pip install pydot graphviz"
      ],
      "id": "6JDMFujP99cq"
    },
    {
      "cell_type": "code",
      "execution_count": null,
      "metadata": {
        "id": "TGtJRqk890fV"
      },
      "outputs": [],
      "source": [
        "# tf.keras.utils.plot_model(model, show_shapes=False, \n",
        "#                           show_layer_names=True, rankdir='TB',\n",
        "#                           expand_nested=False, dpi=96)"
      ],
      "id": "TGtJRqk890fV"
    },
    {
      "cell_type": "code",
      "execution_count": null,
      "metadata": {
        "colab": {
          "base_uri": "https://localhost:8080/"
        },
        "id": "dominican-discount",
        "outputId": "bde56ca8-bd41-4b0c-f6ac-178429a5eb2d"
      },
      "outputs": [
        {
          "output_type": "stream",
          "name": "stdout",
          "text": [
            "Epoch 1/30\n",
            "514/515 [============================>.] - ETA: 0s - loss: 0.2014 - accuracy: 0.9730\n",
            "Epoch 1: val_loss improved from inf to 0.50295, saving model to weights.h5\n",
            "515/515 [==============================] - 10s 20ms/step - loss: 0.2013 - accuracy: 0.9730 - val_loss: 0.5029 - val_accuracy: 0.9074\n",
            "Epoch 2/30\n",
            "514/515 [============================>.] - ETA: 0s - loss: 0.1950 - accuracy: 0.9740\n",
            "Epoch 2: val_loss did not improve from 0.50295\n",
            "515/515 [==============================] - 10s 20ms/step - loss: 0.1948 - accuracy: 0.9740 - val_loss: 0.5423 - val_accuracy: 0.8952\n",
            "Epoch 3/30\n",
            "514/515 [============================>.] - ETA: 0s - loss: 0.1889 - accuracy: 0.9761\n",
            "Epoch 3: val_loss did not improve from 0.50295\n",
            "515/515 [==============================] - 10s 20ms/step - loss: 0.1889 - accuracy: 0.9761 - val_loss: 0.5303 - val_accuracy: 0.8963\n",
            "Epoch 4/30\n",
            "514/515 [============================>.] - ETA: 0s - loss: 0.1847 - accuracy: 0.9768\n",
            "Epoch 4: val_loss did not improve from 0.50295\n",
            "515/515 [==============================] - 10s 20ms/step - loss: 0.1847 - accuracy: 0.9768 - val_loss: 0.5386 - val_accuracy: 0.8934\n",
            "Epoch 5/30\n",
            "514/515 [============================>.] - ETA: 0s - loss: 0.1872 - accuracy: 0.9779\n",
            "Epoch 5: val_loss did not improve from 0.50295\n",
            "515/515 [==============================] - 10s 20ms/step - loss: 0.1871 - accuracy: 0.9779 - val_loss: 0.5319 - val_accuracy: 0.8952\n",
            "Epoch 6/30\n",
            "514/515 [============================>.] - ETA: 0s - loss: 0.1817 - accuracy: 0.9791\n",
            "Epoch 6: val_loss did not improve from 0.50295\n",
            "515/515 [==============================] - 10s 20ms/step - loss: 0.1816 - accuracy: 0.9791 - val_loss: 0.5324 - val_accuracy: 0.9022\n",
            "Epoch 7/30\n",
            "514/515 [============================>.] - ETA: 0s - loss: 0.1762 - accuracy: 0.9792\n",
            "Epoch 7: val_loss did not improve from 0.50295\n",
            "515/515 [==============================] - 10s 20ms/step - loss: 0.1768 - accuracy: 0.9790 - val_loss: 0.5528 - val_accuracy: 0.8975\n",
            "Epoch 8/30\n",
            "514/515 [============================>.] - ETA: 0s - loss: 0.1834 - accuracy: 0.9778\n",
            "Epoch 8: val_loss did not improve from 0.50295\n",
            "515/515 [==============================] - 10s 20ms/step - loss: 0.1834 - accuracy: 0.9778 - val_loss: 0.5396 - val_accuracy: 0.8998\n",
            "Epoch 9/30\n",
            "514/515 [============================>.] - ETA: 0s - loss: 0.1792 - accuracy: 0.9794\n",
            "Epoch 9: val_loss did not improve from 0.50295\n",
            "515/515 [==============================] - 10s 20ms/step - loss: 0.1793 - accuracy: 0.9794 - val_loss: 0.5572 - val_accuracy: 0.8992\n",
            "Epoch 10/30\n",
            "514/515 [============================>.] - ETA: 0s - loss: 0.1739 - accuracy: 0.9792\n",
            "Epoch 10: val_loss did not improve from 0.50295\n",
            "515/515 [==============================] - 10s 20ms/step - loss: 0.1738 - accuracy: 0.9793 - val_loss: 0.5612 - val_accuracy: 0.8981\n",
            "Epoch 11/30\n",
            "514/515 [============================>.] - ETA: 0s - loss: 0.1593 - accuracy: 0.9828\n",
            "Epoch 11: val_loss did not improve from 0.50295\n",
            "515/515 [==============================] - 10s 20ms/step - loss: 0.1595 - accuracy: 0.9827 - val_loss: 0.5598 - val_accuracy: 0.8987\n",
            "Epoch 12/30\n",
            "514/515 [============================>.] - ETA: 0s - loss: 0.1645 - accuracy: 0.9822\n",
            "Epoch 12: val_loss did not improve from 0.50295\n",
            "515/515 [==============================] - 10s 20ms/step - loss: 0.1645 - accuracy: 0.9822 - val_loss: 0.5746 - val_accuracy: 0.9022\n",
            "Epoch 13/30\n",
            "514/515 [============================>.] - ETA: 0s - loss: 0.1593 - accuracy: 0.9832\n",
            "Epoch 13: val_loss did not improve from 0.50295\n",
            "515/515 [==============================] - 10s 20ms/step - loss: 0.1597 - accuracy: 0.9832 - val_loss: 0.5813 - val_accuracy: 0.8981\n",
            "Epoch 14/30\n",
            "514/515 [============================>.] - ETA: 0s - loss: 0.1595 - accuracy: 0.9825\n",
            "Epoch 14: val_loss did not improve from 0.50295\n",
            "515/515 [==============================] - 10s 20ms/step - loss: 0.1598 - accuracy: 0.9824 - val_loss: 0.5752 - val_accuracy: 0.9004\n",
            "Epoch 15/30\n",
            "514/515 [============================>.] - ETA: 0s - loss: 0.1593 - accuracy: 0.9818\n",
            "Epoch 15: val_loss did not improve from 0.50295\n",
            "515/515 [==============================] - 10s 20ms/step - loss: 0.1592 - accuracy: 0.9819 - val_loss: 0.5854 - val_accuracy: 0.9004\n",
            "Epoch 16/30\n",
            "514/515 [============================>.] - ETA: 0s - loss: 0.1535 - accuracy: 0.9832\n",
            "Epoch 16: val_loss did not improve from 0.50295\n",
            "515/515 [==============================] - 10s 20ms/step - loss: 0.1535 - accuracy: 0.9832 - val_loss: 0.5576 - val_accuracy: 0.8992\n",
            "Epoch 17/30\n",
            "514/515 [============================>.] - ETA: 0s - loss: 0.1514 - accuracy: 0.9837\n",
            "Epoch 17: val_loss did not improve from 0.50295\n",
            "515/515 [==============================] - 10s 20ms/step - loss: 0.1514 - accuracy: 0.9836 - val_loss: 0.6185 - val_accuracy: 0.8934\n",
            "Epoch 18/30\n",
            "514/515 [============================>.] - ETA: 0s - loss: 0.1472 - accuracy: 0.9848\n",
            "Epoch 18: val_loss did not improve from 0.50295\n",
            "515/515 [==============================] - 11s 21ms/step - loss: 0.1473 - accuracy: 0.9847 - val_loss: 0.5912 - val_accuracy: 0.8917\n",
            "Epoch 19/30\n",
            "514/515 [============================>.] - ETA: 0s - loss: 0.1537 - accuracy: 0.9837\n",
            "Epoch 19: val_loss did not improve from 0.50295\n",
            "515/515 [==============================] - 11s 21ms/step - loss: 0.1536 - accuracy: 0.9837 - val_loss: 0.5628 - val_accuracy: 0.8975\n",
            "Epoch 20/30\n",
            "514/515 [============================>.] - ETA: 0s - loss: 0.1478 - accuracy: 0.9849\n",
            "Epoch 20: val_loss did not improve from 0.50295\n",
            "515/515 [==============================] - 11s 20ms/step - loss: 0.1477 - accuracy: 0.9849 - val_loss: 0.5835 - val_accuracy: 0.8946\n",
            "Epoch 21/30\n",
            "514/515 [============================>.] - ETA: 0s - loss: 0.1428 - accuracy: 0.9848\n",
            "Epoch 21: val_loss did not improve from 0.50295\n",
            "515/515 [==============================] - 10s 20ms/step - loss: 0.1428 - accuracy: 0.9848 - val_loss: 0.5872 - val_accuracy: 0.8963\n",
            "Epoch 22/30\n",
            "514/515 [============================>.] - ETA: 0s - loss: 0.1418 - accuracy: 0.9856\n",
            "Epoch 22: val_loss did not improve from 0.50295\n",
            "515/515 [==============================] - 10s 20ms/step - loss: 0.1417 - accuracy: 0.9856 - val_loss: 0.5904 - val_accuracy: 0.8952\n",
            "Epoch 23/30\n",
            "514/515 [============================>.] - ETA: 0s - loss: 0.1424 - accuracy: 0.9864\n",
            "Epoch 23: val_loss did not improve from 0.50295\n",
            "515/515 [==============================] - 10s 20ms/step - loss: 0.1423 - accuracy: 0.9864 - val_loss: 0.5693 - val_accuracy: 0.8998\n",
            "Epoch 24/30\n",
            "514/515 [============================>.] - ETA: 0s - loss: 0.1436 - accuracy: 0.9848\n",
            "Epoch 24: val_loss did not improve from 0.50295\n",
            "515/515 [==============================] - 10s 20ms/step - loss: 0.1437 - accuracy: 0.9848 - val_loss: 0.6150 - val_accuracy: 0.8969\n",
            "Epoch 25/30\n",
            "514/515 [============================>.] - ETA: 0s - loss: 0.1436 - accuracy: 0.9851\n",
            "Epoch 25: val_loss did not improve from 0.50295\n",
            "515/515 [==============================] - 10s 20ms/step - loss: 0.1436 - accuracy: 0.9852 - val_loss: 0.5930 - val_accuracy: 0.8998\n",
            "Epoch 26/30\n",
            "514/515 [============================>.] - ETA: 0s - loss: 0.1395 - accuracy: 0.9855\n",
            "Epoch 26: val_loss did not improve from 0.50295\n",
            "515/515 [==============================] - 10s 20ms/step - loss: 0.1394 - accuracy: 0.9855 - val_loss: 0.5971 - val_accuracy: 0.8998\n",
            "Epoch 27/30\n",
            "514/515 [============================>.] - ETA: 0s - loss: 0.1364 - accuracy: 0.9873\n",
            "Epoch 27: val_loss did not improve from 0.50295\n",
            "515/515 [==============================] - 10s 20ms/step - loss: 0.1364 - accuracy: 0.9873 - val_loss: 0.6137 - val_accuracy: 0.8981\n",
            "Epoch 28/30\n",
            "514/515 [============================>.] - ETA: 0s - loss: 0.1387 - accuracy: 0.9863\n",
            "Epoch 28: val_loss did not improve from 0.50295\n",
            "515/515 [==============================] - 10s 20ms/step - loss: 0.1386 - accuracy: 0.9863 - val_loss: 0.6249 - val_accuracy: 0.8963\n",
            "Epoch 29/30\n",
            "514/515 [============================>.] - ETA: 0s - loss: 0.1397 - accuracy: 0.9864\n",
            "Epoch 29: val_loss did not improve from 0.50295\n",
            "515/515 [==============================] - 10s 20ms/step - loss: 0.1399 - accuracy: 0.9864 - val_loss: 0.5960 - val_accuracy: 0.8963\n",
            "Epoch 30/30\n",
            "514/515 [============================>.] - ETA: 0s - loss: 0.1313 - accuracy: 0.9868\n",
            "Epoch 30: val_loss did not improve from 0.50295\n",
            "515/515 [==============================] - 10s 20ms/step - loss: 0.1313 - accuracy: 0.9869 - val_loss: 0.6264 - val_accuracy: 0.8987\n"
          ]
        }
      ],
      "source": [
        "model_save = ModelCheckpoint('weights.h5', save_best_only = True, save_weights_only = True, monitor = 'val_loss', \n",
        "                             mode = 'min', verbose = 1)\n",
        "history = model.fit(X_train,y_train,validation_data=(X_val,y_val),epochs=30,batch_size=30,callbacks = [model_save])"
      ],
      "id": "dominican-discount"
    },
    {
      "cell_type": "markdown",
      "metadata": {
        "id": "subject-error"
      },
      "source": [
        "# Analysis and visualization of output"
      ],
      "id": "subject-error"
    },
    {
      "cell_type": "code",
      "execution_count": null,
      "metadata": {
        "id": "stunning-pioneer"
      },
      "outputs": [],
      "source": [
        "# print(history.history.keys())\n",
        "# #  \"Accuracy\"\n",
        "# plt.plot(history.history['accuracy'])\n",
        "# plt.plot(history.history['val_accuracy'])\n",
        "# plt.title('model accuracy')\n",
        "# plt.ylabel('accuracy')\n",
        "# plt.xlabel('epoch')\n",
        "# plt.legend(['train', 'validation'], loc='upper left')\n",
        "# plt.show()\n",
        "# # \"Loss\"\n",
        "# plt.plot(history.history['loss'])\n",
        "# plt.plot(history.history['val_loss'])\n",
        "# plt.title('model loss')\n",
        "# plt.ylabel('loss')\n",
        "# plt.xlabel('epoch')\n",
        "# plt.legend(['train', 'validation'], loc='upper left')\n",
        "# plt.show()"
      ],
      "id": "stunning-pioneer"
    },
    {
      "cell_type": "code",
      "execution_count": null,
      "metadata": {
        "id": "impossible-terror"
      },
      "outputs": [],
      "source": [
        "#Load the best weights\n",
        "model.load_weights('weights.h5')"
      ],
      "id": "impossible-terror"
    },
    {
      "cell_type": "code",
      "execution_count": null,
      "metadata": {
        "colab": {
          "base_uri": "https://localhost:8080/"
        },
        "id": "based-principle",
        "outputId": "19beb599-9a3c-4c94-8a6b-f22d3bf04f8a"
      },
      "outputs": [
        {
          "output_type": "stream",
          "name": "stdout",
          "text": [
            "135/135 [==============================] - 2s 7ms/step\n"
          ]
        }
      ],
      "source": [
        "# get predicted probabilities for each class\n",
        "y_pred_prob = model.predict(X_test)\n",
        "\n",
        "# get the class indices of the highest probability\n",
        "y_pred = np.argmax(y_pred_prob, axis=1)"
      ],
      "id": "based-principle"
    },
    {
      "cell_type": "code",
      "execution_count": null,
      "metadata": {
        "colab": {
          "base_uri": "https://localhost:8080/"
        },
        "id": "julian-freeware",
        "outputId": "96199b12-4dd3-4672-8e31-6713a9cb0882"
      },
      "outputs": [
        {
          "output_type": "stream",
          "name": "stdout",
          "text": [
            "0.9054054054054054\n"
          ]
        }
      ],
      "source": [
        "#Accuracy score\n",
        "print(accuracy_score(y_test,y_pred))"
      ],
      "id": "julian-freeware"
    },
    {
      "cell_type": "code",
      "execution_count": null,
      "metadata": {
        "colab": {
          "base_uri": "https://localhost:8080/"
        },
        "id": "fatty-blues",
        "outputId": "46e2b786-ae04-4948-c490-23dc8eb07d7d"
      },
      "outputs": [
        {
          "output_type": "stream",
          "name": "stdout",
          "text": [
            "              precision    recall  f1-score   support\n",
            "\n",
            "           0    0.90596   0.93679   0.92112       617\n",
            "           1    0.88780   0.84934   0.86814       531\n",
            "           2    0.92878   0.90659   0.91755      1381\n",
            "           3    0.75556   0.74843   0.75197       318\n",
            "           4    0.95338   0.96085   0.95710      1277\n",
            "           5    0.71429   0.83333   0.76923       168\n",
            "\n",
            "    accuracy                        0.90541      4292\n",
            "   macro avg    0.85763   0.87255   0.86419      4292\n",
            "weighted avg    0.90652   0.90541   0.90564      4292\n",
            "\n"
          ]
        }
      ],
      "source": [
        "#Classification report\n",
        "print(classification_report(y_test, y_pred, digits=5))"
      ],
      "id": "fatty-blues"
    },
    {
      "cell_type": "code",
      "execution_count": null,
      "metadata": {
        "id": "gorgeous-framing"
      },
      "outputs": [],
      "source": [
        "# #Confusion Matrix\n",
        "# print('Confusion Matrix')\n",
        "# print(sns.heatmap(confusion_matrix(y_test, y_pred),annot=True,fmt=\"d\"))"
      ],
      "id": "gorgeous-framing"
    },
    {
      "cell_type": "markdown",
      "metadata": {
        "id": "criminal-shepherd"
      },
      "source": [
        "# Test on own"
      ],
      "id": "criminal-shepherd"
    },
    {
      "cell_type": "code",
      "execution_count": null,
      "metadata": {
        "colab": {
          "base_uri": "https://localhost:8080/"
        },
        "id": "electric-collection",
        "outputId": "e89f8ae4-80e9-4aa0-b861-d93360359e07"
      },
      "outputs": [
        {
          "output_type": "stream",
          "name": "stdout",
          "text": [
            "{'anger': 0, 'fear': 1, 'happy': 2, 'love': 3, 'sadness': 4, 'surprise': 5}\n"
          ]
        }
      ],
      "source": [
        "#Mapping of target classes using label-encoder\n",
        "le_name_mapping = dict(zip(label_encoder.classes_, label_encoder.transform(label_encoder.classes_)))\n",
        "print(le_name_mapping)"
      ],
      "id": "electric-collection"
    },
    {
      "cell_type": "code",
      "execution_count": null,
      "metadata": {
        "id": "tribal-thriller"
      },
      "outputs": [],
      "source": [
        "def predict_emotion(stri):\n",
        "    review = re.sub('[^a-zA-Z]', ' ', stri)\n",
        "    review = review.lower()\n",
        "    review = review.split()\n",
        "    review = [ps.stem(word) for word in review if not word in stopwords.words('english')]\n",
        "    review = ' '.join(review)\n",
        "    # print(review)\n",
        "    seq = tokenizer.texts_to_sequences([review]) \n",
        "    # print(seq)\n",
        "    padded_seq = pad_sequences(seq, padding='pre', maxlen=sent_length)\n",
        "    predicti = model.predict(padded_seq)\n",
        "    # print(predicti)\n",
        "    # return label_encoder.classes_[np.argmax(predicti)]\n",
        "    return np.argmax(predicti)\n"
      ],
      "id": "tribal-thriller"
    },
    {
      "cell_type": "code",
      "execution_count": null,
      "metadata": {
        "colab": {
          "base_uri": "https://localhost:8080/",
          "height": 53
        },
        "id": "every-premium",
        "outputId": "0ea88e6d-3d22-45af-8394-6c6600c12ff4"
      },
      "outputs": [
        {
          "output_type": "stream",
          "name": "stdout",
          "text": [
            "1/1 [==============================] - 0s 23ms/step\n"
          ]
        },
        {
          "output_type": "execute_result",
          "data": {
            "text/plain": [
              "'anger'"
            ],
            "application/vnd.google.colaboratory.intrinsic+json": {
              "type": "string"
            }
          },
          "metadata": {},
          "execution_count": 6
        }
      ],
      "source": [
        "predict_emotion('He is an arrogant and rude person')"
      ],
      "id": "every-premium"
    },
    {
      "cell_type": "code",
      "execution_count": null,
      "metadata": {
        "colab": {
          "base_uri": "https://localhost:8080/",
          "height": 53
        },
        "id": "worth-stanford",
        "outputId": "e7fccc36-14fc-473e-9856-6e62d72c470e"
      },
      "outputs": [
        {
          "output_type": "stream",
          "name": "stdout",
          "text": [
            "1/1 [==============================] - 0s 24ms/step\n"
          ]
        },
        {
          "output_type": "execute_result",
          "data": {
            "text/plain": [
              "'happy'"
            ],
            "application/vnd.google.colaboratory.intrinsic+json": {
              "type": "string"
            }
          },
          "metadata": {},
          "execution_count": 7
        }
      ],
      "source": [
        "predict_emotion('ALL THAT SWEET KARMA!')"
      ],
      "id": "worth-stanford"
    },
    {
      "cell_type": "code",
      "execution_count": null,
      "metadata": {
        "id": "zO-DMN0aL4dV",
        "colab": {
          "base_uri": "https://localhost:8080/"
        },
        "outputId": "421c5b90-6741-4b05-92a8-85b139a33abc"
      },
      "outputs": [
        {
          "output_type": "stream",
          "name": "stdout",
          "text": [
            "happi\n",
            "[[55]]\n",
            "1/1 [==============================] - 1s 679ms/step\n"
          ]
        },
        {
          "output_type": "execute_result",
          "data": {
            "text/plain": [
              "2"
            ]
          },
          "metadata": {},
          "execution_count": 11
        }
      ],
      "source": [
        "predict_emotion('I am so happy')"
      ],
      "id": "zO-DMN0aL4dV"
    },
    {
      "cell_type": "code",
      "execution_count": null,
      "metadata": {
        "id": "D2RZIUD4JOw8",
        "colab": {
          "base_uri": "https://localhost:8080/"
        },
        "outputId": "3ff52d7a-9bda-4898-a640-2c84e2962a36"
      },
      "outputs": [
        {
          "output_type": "stream",
          "name": "stderr",
          "text": [
            "WARNING:absl:Found untraced functions such as _update_step_xla, lstm_cell_4_layer_call_fn, lstm_cell_4_layer_call_and_return_conditional_losses, lstm_cell_5_layer_call_fn, lstm_cell_5_layer_call_and_return_conditional_losses while saving (showing 5 of 5). These functions will not be directly callable after loading.\n"
          ]
        }
      ],
      "source": [
        "model.save('my_model')"
      ],
      "id": "D2RZIUD4JOw8"
    },
    {
      "cell_type": "code",
      "source": [
        "import shutil\n",
        "shutil.make_archive('my_model', 'zip', 'my_model')\n"
      ],
      "metadata": {
        "colab": {
          "base_uri": "https://localhost:8080/",
          "height": 36
        },
        "id": "fN1tTe5SSKUF",
        "outputId": "f47dc85e-542b-4c3f-a595-caeb88f32858"
      },
      "id": "fN1tTe5SSKUF",
      "execution_count": null,
      "outputs": [
        {
          "output_type": "execute_result",
          "data": {
            "text/plain": [
              "'/content/my_model.zip'"
            ],
            "application/vnd.google.colaboratory.intrinsic+json": {
              "type": "string"
            }
          },
          "metadata": {},
          "execution_count": 101
        }
      ]
    },
    {
      "cell_type": "markdown",
      "metadata": {
        "id": "59FMRbqiA85-"
      },
      "source": [
        "# Load MySQL Data"
      ],
      "id": "59FMRbqiA85-"
    },
    {
      "cell_type": "code",
      "execution_count": null,
      "metadata": {
        "id": "dDlHVk2BA-cF"
      },
      "outputs": [],
      "source": [
        "# !pip install mysql-connector-python"
      ],
      "id": "dDlHVk2BA-cF"
    },
    {
      "cell_type": "code",
      "execution_count": null,
      "metadata": {
        "id": "ElQJvWBqA-6m"
      },
      "outputs": [],
      "source": [
        "# import mysql.connector"
      ],
      "id": "ElQJvWBqA-6m"
    },
    {
      "cell_type": "code",
      "execution_count": null,
      "metadata": {
        "id": "Xz2Sc2yOBAou"
      },
      "outputs": [],
      "source": [
        "# mydb = mysql.connector.connect(\n",
        "#   host=\"ls-EXAMPLE\",\n",
        "#   user=\"EXAMPLE\",\n",
        "#   password=\"EXAMPLE\",\n",
        "#   database=\"EXAMPLE\"\n",
        "# )\n",
        "\n",
        "# try:\n",
        "#     query = \"Select body from EXAMPLE;\"\n",
        "#     result_dataFrame = pd.read_sql(query,mydb)\n",
        "#     mydb.close() #close the connection\n",
        "#     print(result_dataFrame.head())\n",
        "# except Exception as e:\n",
        "#     mydb.close()\n",
        "#     print(str(e))"
      ],
      "id": "Xz2Sc2yOBAou"
    },
    {
      "cell_type": "code",
      "source": [
        "# result_dataFrame['labels']=result_dataFrame['body'].apply(predict)"
      ],
      "metadata": {
        "id": "_o2wJHRfcLBV"
      },
      "id": "_o2wJHRfcLBV",
      "execution_count": null,
      "outputs": []
    },
    {
      "cell_type": "code",
      "source": [
        "# onehot_repr = [one_hot('hello',10000)] \n",
        "# print(onehot_repr)"
      ],
      "metadata": {
        "id": "8UFawBL8BEx1"
      },
      "id": "8UFawBL8BEx1",
      "execution_count": null,
      "outputs": []
    },
    {
      "cell_type": "code",
      "source": [],
      "metadata": {
        "id": "mXOSrGj316hs"
      },
      "id": "mXOSrGj316hs",
      "execution_count": null,
      "outputs": []
    },
    {
      "cell_type": "markdown",
      "source": [
        "# Applying Data to CSV"
      ],
      "metadata": {
        "id": "NQ1HKgTDHD6s"
      },
      "id": "NQ1HKgTDHD6s"
    },
    {
      "cell_type": "code",
      "source": [
        "!unzip LSDM-NLP-BiLSTM.zip -d files"
      ],
      "metadata": {
        "colab": {
          "base_uri": "https://localhost:8080/"
        },
        "id": "OV6wla-gHkSn",
        "outputId": "6d11f1b8-95e7-459c-d156-c75620dc0e57"
      },
      "id": "OV6wla-gHkSn",
      "execution_count": null,
      "outputs": [
        {
          "output_type": "stream",
          "name": "stdout",
          "text": [
            "Archive:  LSDM-NLP-BiLSTM.zip\n",
            "  inflating: files/label_encoder.pkl  \n",
            " extracting: files/my_model.zip      \n",
            "  inflating: files/tokenizer.pkl     \n",
            "  inflating: files/weights.h5        \n"
          ]
        }
      ]
    },
    {
      "cell_type": "code",
      "source": [
        "!unzip files/my_model.zip -d my_model"
      ],
      "metadata": {
        "colab": {
          "base_uri": "https://localhost:8080/"
        },
        "id": "4s-q0Le0JDjR",
        "outputId": "68379031-c11d-4625-f36a-8ec897a7299e"
      },
      "id": "4s-q0Le0JDjR",
      "execution_count": null,
      "outputs": [
        {
          "output_type": "stream",
          "name": "stdout",
          "text": [
            "Archive:  files/my_model.zip\n",
            "   creating: my_model/assets/\n",
            "   creating: my_model/variables/\n",
            "  inflating: my_model/keras_metadata.pb  \n",
            "  inflating: my_model/fingerprint.pb  \n",
            "  inflating: my_model/saved_model.pb  \n",
            "  inflating: my_model/variables/variables.data-00000-of-00001  \n",
            "  inflating: my_model/variables/variables.index  \n"
          ]
        }
      ]
    },
    {
      "cell_type": "markdown",
      "source": [
        "# Code for Importing Model and Libraries"
      ],
      "metadata": {
        "id": "x7x-LMotHEjT"
      },
      "id": "x7x-LMotHEjT"
    },
    {
      "cell_type": "code",
      "source": [
        "import pandas as pd\n",
        "# import tensorflow as tf\n",
        "import re \n",
        "# import ps\n",
        "import numpy as np\n",
        "# from tensorflow.keras.layers import Embedding, Dense, LSTM, Dropout, Bidirectional\n",
        "from tensorflow.keras.preprocessing.sequence import pad_sequences\n",
        "# from tensorflow.keras.models import Sequential\n",
        "from tensorflow.keras.preprocessing.text import Tokenizer\n",
        "# from tensorflow.keras.callbacks import ModelCheckpoint\n",
        "from nltk.corpus import stopwords\n",
        "from nltk.stem.porter import PorterStemmer\n",
        "# from sklearn import preprocessing\n",
        "# from sklearn.model_selection import train_test_split\n",
        "# from sklearn.metrics import accuracy_score, classification_report, confusion_matrix\n",
        "ps = PorterStemmer()\n",
        "import nltk\n",
        "nltk.download('stopwords')\n",
        "import pickle\n",
        "import random as rn\n",
        "\n",
        "# print(\"Keras version:\", keras.__version__)\n",
        "\n",
        "# Set the seed for numpy, tensorflow, and random\n",
        "np.random.seed(0)\n",
        "rn.seed(0)\n",
        "tf.random.set_seed(0)\n",
        "\n",
        "\n",
        "with open('files/tokenizer.pkl', 'rb') as f:\n",
        "    tokenizer = pickle.load(f)\n",
        "\n",
        "with open('files/label_encoder.pkl', 'rb') as f:\n",
        "    label_encoder = pickle.load(f)\n",
        "\n",
        "\n",
        "model = tf.keras.models.load_model('my_model')\n",
        "\n",
        "# Use the model to make predictions\n",
        "# predictions = model.predict()\n",
        "model.load_weights('files/weights.h5', by_name=True)\n",
        "\n",
        "def predict_emotion(stri):\n",
        "    review = re.sub('[^a-zA-Z]', ' ', stri)\n",
        "    review = review.lower()\n",
        "    review = review.split()\n",
        "    review = [ps.stem(word) for word in review if not word in stopwords.words('english')]\n",
        "    review = ' '.join(review)\n",
        "    print(review)\n",
        "    seq = tokenizer.texts_to_sequences([review]) \n",
        "    print(seq)\n",
        "    padded_seq = pad_sequences(seq, padding='pre', maxlen=35)\n",
        "    predicti = model.predict(padded_seq)\n",
        "    return label_encoder.classes_[np.argmax(predicti)] # text\n",
        "    # return np.argmax(predicti) # integers\n",
        " "
      ],
      "metadata": {
        "colab": {
          "base_uri": "https://localhost:8080/"
        },
        "id": "Gys5TQ8xHa_a",
        "outputId": "66785d80-9c4d-4835-d4b0-36b7ee14a8bc"
      },
      "id": "Gys5TQ8xHa_a",
      "execution_count": null,
      "outputs": [
        {
          "output_type": "stream",
          "name": "stderr",
          "text": [
            "[nltk_data] Downloading package stopwords to /root/nltk_data...\n",
            "[nltk_data]   Package stopwords is already up-to-date!\n"
          ]
        }
      ]
    }
  ],
  "metadata": {
    "accelerator": "GPU",
    "colab": {
      "collapsed_sections": [
        "delayed-validation",
        "vietnamese-confidentiality",
        "subject-error"
      ],
      "machine_shape": "hm",
      "provenance": [],
      "gpuType": "T4"
    },
    "gpuClass": "standard",
    "kernelspec": {
      "display_name": "Python 3",
      "language": "python",
      "name": "python3"
    },
    "language_info": {
      "codemirror_mode": {
        "name": "ipython",
        "version": 3
      },
      "file_extension": ".py",
      "mimetype": "text/x-python",
      "name": "python",
      "nbconvert_exporter": "python",
      "pygments_lexer": "ipython3",
      "version": "3.7.10"
    },
    "papermill": {
      "default_parameters": {},
      "duration": 270.006212,
      "end_time": "2021-05-21T07:01:08.314539",
      "environment_variables": {},
      "exception": null,
      "input_path": "__notebook__.ipynb",
      "output_path": "__notebook__.ipynb",
      "parameters": {},
      "start_time": "2021-05-21T06:56:38.308327",
      "version": "2.3.3"
    }
  },
  "nbformat": 4,
  "nbformat_minor": 5
}