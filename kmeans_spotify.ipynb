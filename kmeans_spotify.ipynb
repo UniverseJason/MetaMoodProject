{
  "nbformat": 4,
  "nbformat_minor": 0,
  "metadata": {
    "colab": {
      "provenance": [],
      "toc_visible": true
    },
    "kernelspec": {
      "name": "python3",
      "display_name": "Python 3"
    },
    "language_info": {
      "name": "python"
    }
  },
  "cells": [
    {
      "cell_type": "markdown",
      "source": [
        "## Spotify k-Means\n",
        "LSDM Group Project\n",
        "\n",
        "Bryce Hinkley"
      ],
      "metadata": {
        "id": "DRWzAsmfZhT1"
      }
    },
    {
      "cell_type": "markdown",
      "source": [
        "# Imports and Pips"
      ],
      "metadata": {
        "id": "QMMyFz2eXaY4"
      }
    },
    {
      "cell_type": "code",
      "source": [
        "!pip install spotipy"
      ],
      "metadata": {
        "colab": {
          "base_uri": "https://localhost:8080/"
        },
        "id": "VoH30UJklB83",
        "outputId": "5596275a-7c1c-42ae-a1d6-020b1ae11a4a"
      },
      "execution_count": null,
      "outputs": [
        {
          "output_type": "stream",
          "name": "stdout",
          "text": [
            "Looking in indexes: https://pypi.org/simple, https://us-python.pkg.dev/colab-wheels/public/simple/\n",
            "Collecting spotipy\n",
            "  Downloading spotipy-2.23.0-py3-none-any.whl (29 kB)\n",
            "Collecting redis>=3.5.3\n",
            "  Downloading redis-4.5.4-py3-none-any.whl (238 kB)\n",
            "\u001b[2K     \u001b[90m━━━━━━━━━━━━━━━━━━━━━━━━━━━━━━━━━━━━━━━\u001b[0m \u001b[32m238.9/238.9 kB\u001b[0m \u001b[31m9.9 MB/s\u001b[0m eta \u001b[36m0:00:00\u001b[0m\n",
            "\u001b[?25hRequirement already satisfied: urllib3>=1.26.0 in /usr/local/lib/python3.9/dist-packages (from spotipy) (1.26.15)\n",
            "Requirement already satisfied: six>=1.15.0 in /usr/local/lib/python3.9/dist-packages (from spotipy) (1.16.0)\n",
            "Requirement already satisfied: requests>=2.25.0 in /usr/local/lib/python3.9/dist-packages (from spotipy) (2.27.1)\n",
            "Collecting async-timeout>=4.0.2\n",
            "  Downloading async_timeout-4.0.2-py3-none-any.whl (5.8 kB)\n",
            "Requirement already satisfied: idna<4,>=2.5 in /usr/local/lib/python3.9/dist-packages (from requests>=2.25.0->spotipy) (3.4)\n",
            "Requirement already satisfied: charset-normalizer~=2.0.0 in /usr/local/lib/python3.9/dist-packages (from requests>=2.25.0->spotipy) (2.0.12)\n",
            "Requirement already satisfied: certifi>=2017.4.17 in /usr/local/lib/python3.9/dist-packages (from requests>=2.25.0->spotipy) (2022.12.7)\n",
            "Installing collected packages: async-timeout, redis, spotipy\n",
            "Successfully installed async-timeout-4.0.2 redis-4.5.4 spotipy-2.23.0\n"
          ]
        }
      ]
    },
    {
      "cell_type": "code",
      "execution_count": null,
      "metadata": {
        "id": "qCPcj-Rtgpom"
      },
      "outputs": [],
      "source": [
        "#Imports\n",
        "import warnings\n",
        "warnings.simplefilter(action='ignore', category=FutureWarning)\n",
        "\n",
        "from sklearn import preprocessing\n",
        "import pandas as pd\n",
        "import json\n",
        "import spotipy\n",
        "from spotipy.oauth2 import SpotifyClientCredentials\n",
        "import sys\n",
        "from pprint import pprint\n",
        "import time\n",
        "from __future__ import print_function\n",
        "import numpy as np\n",
        "import matplotlib as mpl\n",
        "import matplotlib.pyplot as plt"
      ]
    },
    {
      "cell_type": "code",
      "source": [
        "\n",
        "mpl.rc('axes', labelsize=14)\n",
        "mpl.rc('xtick', labelsize=12)\n",
        "mpl.rc('ytick', labelsize=12)\n",
        "\n",
        "import seaborn as sns\n",
        "#set style of plots\n",
        "sns.set_style('white')\n",
        "\n",
        "#define a custom palette\n",
        "customPalette = ['#630C3A', '#39C8C6', '#D3500C', '#FFB139']\n",
        "sns.set_palette(customPalette)\n",
        "sns.palplot(customPalette)\n",
        "\n",
        "\n",
        "# Ignore useless warnings (see SciPy issue #5998)\n",
        "import warnings\n",
        "warnings.filterwarnings(action=\"ignore\", message=\"^internal gelsd\")"
      ],
      "metadata": {
        "colab": {
          "base_uri": "https://localhost:8080/"
        },
        "id": "RNIuEapqYIWC",
        "outputId": "f1d13a51-794e-4cc1-da35-5bc02209b66a"
      },
      "execution_count": null,
      "outputs": [
        {
          "output_type": "display_data",
          "data": {
            "text/plain": [
              "<Figure size 400x100 with 1 Axes>"
            ],
            "image/png": "[encoded data removed]"
          },
          "metadata": {}
        }
      ]
    },
    {
      "cell_type": "code",
      "source": [
        "sp = spotipy.Spotify(client_credentials_manager=SpotifyClientCredentials(client_id='84c1030768104363b1bc43ce64e951d1',client_secret='839912b6ecc045c1b82fc4a2eed9743d'))"
      ],
      "metadata": {
        "id": "vvyN959qlOEc"
      },
      "execution_count": null,
      "outputs": []
    },
    {
      "cell_type": "markdown",
      "source": [
        "# Defs and Data Collection"
      ],
      "metadata": {
        "id": "BHQGT3ZAXUT4"
      }
    },
    {
      "cell_type": "code",
      "source": [
        "#Helper functions\n",
        "\n",
        "def get_playlist_tracks(playID):\n",
        "  temp_list = []\n",
        "  length = 0\n",
        "  response = sp.playlist_items(pl_id,\n",
        "                                  offset=0,\n",
        "                                  fields='items.track.id,total',\n",
        "                                  additional_types=['track'])\n",
        "  length = response['total']\n",
        "  thing = response['items']\n",
        "  # print(length)\n",
        "  while True:\n",
        "    if(length>100):\n",
        "      for i in range(100):\n",
        "        temp_list.insert(-1,thing[i]['track']['id'])\n",
        "      length -= 100\n",
        "    else:\n",
        "      response = sp.playlist_items(pl_id,\n",
        "                                      offset=length,\n",
        "                                      fields='items.track.id,total',\n",
        "                                      additional_types=['track'])\n",
        "      for i in range(length):\n",
        "        temp_list.insert(-1,thing[i]['track']['id'])\n",
        "      break\n",
        "  return temp_list"
      ],
      "metadata": {
        "id": "JFJHOYg1oAG6"
      },
      "execution_count": null,
      "outputs": []
    },
    {
      "cell_type": "code",
      "source": [
        "playlist_list = [\n",
        "'37i9dQZF1DX7qK8ma5wgG1',\n",
        "'37i9dQZF1DX3YSRoSdA634',\n",
        "'37i9dQZF1DXbEm2sKzgoJ8',\n",
        "'37i9dQZF1DX5IDTimEWoTd',\n",
        "'37i9dQZF1DX0MLFaUdXnjA',\n",
        "'37i9dQZF1DX889U0CL85jj',\n",
        "'37i9dQZF1DWY1j3jZdCWOQ',\n",
        "'37i9dQZF1DX9qNs32fujYe',\n",
        "'4zZpffTnguBELBde2Ar30Z',\n",
        "'37i9dQZF1DX3rxVfibe1L0',\n",
        "'37i9dQZF1DX4fpCWaHOned',\n",
        "'37i9dQZF1DWSf2RDTDayIx'\n",
        "]\n",
        "playlist_mood_titles = [\n",
        "'sad',\n",
        "'sad',\n",
        "'romantic',\n",
        "'romantic',\n",
        "'relaxing',\n",
        "'relaxing',\n",
        "'angst',\n",
        "'angry',\n",
        "'angry',\n",
        "'happy',\n",
        "'confident',\n",
        "'happy'\n",
        "]\n",
        "\n",
        "playlist_mood_values = [\n",
        "0,\n",
        "0,\n",
        "1,\n",
        "1,\n",
        "2,\n",
        "2,\n",
        "3,\n",
        "4,\n",
        "4,\n",
        "5,\n",
        "6,\n",
        "5\n",
        "]\n"
      ],
      "metadata": {
        "id": "PbBTI0bwhodn"
      },
      "execution_count": null,
      "outputs": []
    },
    {
      "cell_type": "code",
      "source": [
        "playlist_mood_titles[playlist_list.index('37i9dQZF1DWSf2RDTDayIx')]"
      ],
      "metadata": {
        "colab": {
          "base_uri": "https://localhost:8080/"
        },
        "id": "O3S-7EoWPqQ_",
        "outputId": "17156eca-1d75-4848-f4c2-6949cb9bf4b5"
      },
      "execution_count": null,
      "outputs": [
        {
          "output_type": "execute_result",
          "data": {
            "text/plain": [
              "'happy'"
            ],
            "application/vnd.google.colaboratory.intrinsic+json": {
              "type": "string"
            }
          },
          "metadata": {},
          "execution_count": 7
        }
      ]
    },
    {
      "cell_type": "code",
      "source": [
        "# pl_id = '37i9dQZF1DWSf2RDTDayIx'\n",
        "total_mood_val = []\n",
        "temp_df = pd.DataFrame()\n",
        "data_df = pd.DataFrame(columns=['track_id'])\n",
        "\n",
        "for pl_id in playlist_list:\n",
        "  # total_id.insert(-1,get_playlist_tracks(pl_id))\n",
        "  temp_df = pd.DataFrame(get_playlist_tracks(pl_id),columns=['track_id'])\n",
        "  # total_mood_val += list(np.full(len(temp_df),playlist_list.index(pl_id)))\n",
        "  total_mood_val += list(np.full(len(temp_df),playlist_mood_titles[playlist_list.index(pl_id)]))\n",
        "  #print(list(np.full(len(temp_df),playlist_mood_titles[playlist_list.index(pl_id)])))\n",
        "  data_df = data_df.append(temp_df,ignore_index=True)\n",
        "# print(len(total_id))\n",
        "data_df['mood'] = total_mood_val"
      ],
      "metadata": {
        "id": "JyHroB8Okh2D"
      },
      "execution_count": null,
      "outputs": []
    },
    {
      "cell_type": "code",
      "source": [
        "sp.trace = True\n",
        "\n",
        "songs = pd.DataFrame()\n",
        "start = time.time()\n",
        "for i in range(len(data_df)):\n",
        "  if len(sys.argv) > 1:\n",
        "      #print(track_id)\n",
        "      features = sp.audio_features(data_df['track_id'][i])\n",
        "      data = json.loads(json.dumps(features))\n",
        "      songs = songs.append(data)\n",
        "\n",
        "delta = time.time() - start\n",
        "songs['mood'] = data_df['mood']\n",
        "print(\"features retrieved in %.2f seconds\" % (delta,))\n",
        "# print(songs.head())\n",
        "print(songs.columns)"
      ],
      "metadata": {
        "colab": {
          "base_uri": "https://localhost:8080/"
        },
        "id": "0OJmoZBarAsz",
        "outputId": "aca8ecb7-74ed-432c-dd3c-28893171251e"
      },
      "execution_count": null,
      "outputs": [
        {
          "output_type": "stream",
          "name": "stdout",
          "text": [
            "features retrieved in 114.44 seconds\n",
            "Index(['danceability', 'energy', 'key', 'loudness', 'mode', 'speechiness',\n",
            "       'acousticness', 'instrumentalness', 'liveness', 'valence', 'tempo',\n",
            "       'type', 'id', 'uri', 'track_href', 'analysis_url', 'duration_ms',\n",
            "       'time_signature', 'mood'],\n",
            "      dtype='object')\n"
          ]
        }
      ]
    },
    {
      "cell_type": "code",
      "source": [
        "targets = songs['mood']\n",
        "# features_df = songs[['acousticness',\t'danceability',\t'energy',\t'liveness',\t'speechiness',\t'instrumentalness',\t'valence']]\n",
        "features_df = songs.drop(['key','type','uri','duration_ms','id','track_href','analysis_url','time_signature','tempo','loudness','mode','mood'], axis=1)\n",
        "\n",
        "# loudness = songs[['loudness']].values\n",
        "# # print(loudness)\n",
        "# min_max_scaler = preprocessing.MinMaxScaler()\n",
        "# loudness_scaled = min_max_scaler.fit_transform(loudness)\n",
        "\n",
        "# tempo = songs[['tempo']].values\n",
        "# # print(loudness)\n",
        "# min_max_scaler = preprocessing.MinMaxScaler()\n",
        "# tempo_scaled = min_max_scaler.fit_transform(tempo)\n",
        "\n",
        "# features_df['loudness'] = loudness_scaled\n",
        "# features_df['tempo'] = tempo_scaled\n",
        "features_df = features_df.reset_index(drop=True)\n",
        "print(features_df.head())"
      ],
      "metadata": {
        "colab": {
          "base_uri": "https://localhost:8080/"
        },
        "id": "F6NEUJ14kgI0",
        "outputId": "b994f4d8-f9ce-44e5-8e90-d41153b56cf8"
      },
      "execution_count": null,
      "outputs": [
        {
          "output_type": "stream",
          "name": "stdout",
          "text": [
            "   danceability  energy  speechiness  acousticness  instrumentalness  \\\n",
            "0         0.467   0.359       0.0815         0.843          0.000000   \n",
            "1         0.620   0.379       0.0412         0.797          0.000000   \n",
            "2         0.637   0.513       0.0367         0.518          0.000000   \n",
            "3         0.547   0.222       0.0458         0.962          0.000093   \n",
            "4         0.400   0.641       0.0674         0.214          0.000000   \n",
            "\n",
            "   liveness  valence  \n",
            "0    0.0913    0.210  \n",
            "1    0.1950    0.509  \n",
            "2    0.1240    0.234  \n",
            "3    0.1010    0.528  \n",
            "4    0.0656    0.393  \n"
          ]
        }
      ]
    },
    {
      "cell_type": "markdown",
      "source": [
        "# K-means"
      ],
      "metadata": {
        "id": "tl3J4v-TXeh3"
      }
    },
    {
      "cell_type": "code",
      "source": [
        "#K-means\n",
        "from sklearn.cluster import KMeans\n",
        "\n",
        "# songs_features = songs[['danceability',\t'speechiness',\t'acousticness',\t'liveness']].copy()\n",
        "# songs_features['loudness'] = loudness_scaled\n",
        "#songs_features['tempo_scaled'] = tempo_scaled\n",
        "#songs_features = songs_features['danceability',\t'loudness',\t'speechiness',\t'acousticness',\t'liveness']\n",
        "# print(songs_features['loudness'])\n",
        "Sum_of_squared_distances = []\n",
        "K = range(1,15)\n",
        "for k in K:\n",
        "    km = KMeans(n_clusters=k)\n",
        "    km = km.fit(features_df)\n",
        "    Sum_of_squared_distances.append(km.inertia_)\n"
      ],
      "metadata": {
        "id": "ffrIDySNXhne"
      },
      "execution_count": null,
      "outputs": []
    },
    {
      "cell_type": "code",
      "source": [
        "from sklearn.metrics import silhouette_score\n",
        "for n_clusters in range(2,30):\n",
        "    clusterer = KMeans (n_clusters=n_clusters)\n",
        "    preds = clusterer.fit_predict(features_df)\n",
        "    centers = clusterer.cluster_centers_\n",
        "\n",
        "    score = silhouette_score (features_df, preds, metric='euclidean')\n",
        "    print (\"For n_clusters = {}, silhouette score is {})\".format(n_clusters, score))"
      ],
      "metadata": {
        "colab": {
          "base_uri": "https://localhost:8080/"
        },
        "id": "uKT9hJmRX11l",
        "outputId": "66d9314b-8f6a-4835-bbb3-0b123e6846d6"
      },
      "execution_count": null,
      "outputs": [
        {
          "output_type": "stream",
          "name": "stdout",
          "text": [
            "For n_clusters = 2, silhouette score is 0.41289016900714315)\n",
            "For n_clusters = 3, silhouette score is 0.30322771401127613)\n",
            "For n_clusters = 4, silhouette score is 0.31263779978818007)\n",
            "For n_clusters = 5, silhouette score is 0.24473535453065434)\n",
            "For n_clusters = 6, silhouette score is 0.22882992588148385)\n",
            "For n_clusters = 7, silhouette score is 0.23428981152031222)\n",
            "For n_clusters = 8, silhouette score is 0.2229186790864192)\n",
            "For n_clusters = 9, silhouette score is 0.21832682090151262)\n",
            "For n_clusters = 10, silhouette score is 0.2188433489847861)\n",
            "For n_clusters = 11, silhouette score is 0.2131134414991714)\n",
            "For n_clusters = 12, silhouette score is 0.21267169458006216)\n",
            "For n_clusters = 13, silhouette score is 0.20941233462045553)\n",
            "For n_clusters = 14, silhouette score is 0.20809714296850962)\n",
            "For n_clusters = 15, silhouette score is 0.20671656477944925)\n",
            "For n_clusters = 16, silhouette score is 0.19333278209105284)\n",
            "For n_clusters = 17, silhouette score is 0.19656510871836688)\n",
            "For n_clusters = 18, silhouette score is 0.19396917805211308)\n",
            "For n_clusters = 19, silhouette score is 0.19570649811840596)\n",
            "For n_clusters = 20, silhouette score is 0.19408588997617574)\n",
            "For n_clusters = 21, silhouette score is 0.19362286975066528)\n",
            "For n_clusters = 22, silhouette score is 0.1953596071653401)\n",
            "For n_clusters = 23, silhouette score is 0.1844019380689024)\n",
            "For n_clusters = 24, silhouette score is 0.1886242387528889)\n",
            "For n_clusters = 25, silhouette score is 0.18940690568674642)\n",
            "For n_clusters = 26, silhouette score is 0.19355284289264282)\n",
            "For n_clusters = 27, silhouette score is 0.19615706727011625)\n",
            "For n_clusters = 28, silhouette score is 0.19503479231809576)\n",
            "For n_clusters = 29, silhouette score is 0.18153636319260452)\n"
          ]
        }
      ]
    },
    {
      "cell_type": "code",
      "source": [
        "plt.plot(K, Sum_of_squared_distances, 'gx-')\n",
        "plt.xlabel('k')\n",
        "plt.ylabel('Sum_of_squared_distances')\n",
        "plt.title('Elbow Method For Optimal k')\n",
        "plt.show()"
      ],
      "metadata": {
        "colab": {
          "base_uri": "https://localhost:8080/",
          "height": 481
        },
        "id": "1aaSlCW-X7KO",
        "outputId": "4a7409b0-cb78-48dc-d548-75e864d6c065"
      },
      "execution_count": null,
      "outputs": [
        {
          "output_type": "display_data",
          "data": {
            "text/plain": [
              "<Figure size 640x480 with 1 Axes>"
            ],
            "image/png": "[encoded data removed]"
          },
          "metadata": {}
        }
      ]
    },
    {
      "cell_type": "code",
      "source": [
        "kmeans = KMeans(n_clusters=7)\n",
        "kmeans.fit(features_df)"
      ],
      "metadata": {
        "colab": {
          "base_uri": "https://localhost:8080/",
          "height": 74
        },
        "id": "vc8ca3XGaFkV",
        "outputId": "5689c762-faec-492d-e236-cc37b3f64221"
      },
      "execution_count": null,
      "outputs": [
        {
          "output_type": "execute_result",
          "data": {
            "text/plain": [
              "KMeans(n_clusters=7)"
            ],
            "text/html": [
              "<style>#sk-container-id-1 {color: black;background-color: white;}#sk-container-id-1 pre{padding: 0;}#sk-container-id-1 div.sk-toggleable {background-color: white;}#sk-container-id-1 label.sk-toggleable__label {cursor: pointer;display: block;width: 100%;margin-bottom: 0;padding: 0.3em;box-sizing: border-box;text-align: center;}#sk-container-id-1 label.sk-toggleable__label-arrow:before {content: \"▸\";float: left;margin-right: 0.25em;color: #696969;}#sk-container-id-1 label.sk-toggleable__label-arrow:hover:before {color: black;}#sk-container-id-1 div.sk-estimator:hover label.sk-toggleable__label-arrow:before {color: black;}#sk-container-id-1 div.sk-toggleable__content {max-height: 0;max-width: 0;overflow: hidden;text-align: left;background-color: #f0f8ff;}#sk-container-id-1 div.sk-toggleable__content pre {margin: 0.2em;color: black;border-radius: 0.25em;background-color: #f0f8ff;}#sk-container-id-1 input.sk-toggleable__control:checked~div.sk-toggleable__content {max-height: 200px;max-width: 100%;overflow: auto;}#sk-container-id-1 input.sk-toggleable__control:checked~label.sk-toggleable__label-arrow:before {content: \"▾\";}#sk-container-id-1 div.sk-estimator input.sk-toggleable__control:checked~label.sk-toggleable__label {background-color: #d4ebff;}#sk-container-id-1 div.sk-label input.sk-toggleable__control:checked~label.sk-toggleable__label {background-color: #d4ebff;}#sk-container-id-1 input.sk-hidden--visually {border: 0;clip: rect(1px 1px 1px 1px);clip: rect(1px, 1px, 1px, 1px);height: 1px;margin: -1px;overflow: hidden;padding: 0;position: absolute;width: 1px;}#sk-container-id-1 div.sk-estimator {font-family: monospace;background-color: #f0f8ff;border: 1px dotted black;border-radius: 0.25em;box-sizing: border-box;margin-bottom: 0.5em;}#sk-container-id-1 div.sk-estimator:hover {background-color: #d4ebff;}#sk-container-id-1 div.sk-parallel-item::after {content: \"\";width: 100%;border-bottom: 1px solid gray;flex-grow: 1;}#sk-container-id-1 div.sk-label:hover label.sk-toggleable__label {background-color: #d4ebff;}#sk-container-id-1 div.sk-serial::before {content: \"\";position: absolute;border-left: 1px solid gray;box-sizing: border-box;top: 0;bottom: 0;left: 50%;z-index: 0;}#sk-container-id-1 div.sk-serial {display: flex;flex-direction: column;align-items: center;background-color: white;padding-right: 0.2em;padding-left: 0.2em;position: relative;}#sk-container-id-1 div.sk-item {position: relative;z-index: 1;}#sk-container-id-1 div.sk-parallel {display: flex;align-items: stretch;justify-content: center;background-color: white;position: relative;}#sk-container-id-1 div.sk-item::before, #sk-container-id-1 div.sk-parallel-item::before {content: \"\";position: absolute;border-left: 1px solid gray;box-sizing: border-box;top: 0;bottom: 0;left: 50%;z-index: -1;}#sk-container-id-1 div.sk-parallel-item {display: flex;flex-direction: column;z-index: 1;position: relative;background-color: white;}#sk-container-id-1 div.sk-parallel-item:first-child::after {align-self: flex-end;width: 50%;}#sk-container-id-1 div.sk-parallel-item:last-child::after {align-self: flex-start;width: 50%;}#sk-container-id-1 div.sk-parallel-item:only-child::after {width: 0;}#sk-container-id-1 div.sk-dashed-wrapped {border: 1px dashed gray;margin: 0 0.4em 0.5em 0.4em;box-sizing: border-box;padding-bottom: 0.4em;background-color: white;}#sk-container-id-1 div.sk-label label {font-family: monospace;font-weight: bold;display: inline-block;line-height: 1.2em;}#sk-container-id-1 div.sk-label-container {text-align: center;}#sk-container-id-1 div.sk-container {/* jupyter's `normalize.less` sets `[hidden] { display: none; }` but bootstrap.min.css set `[hidden] { display: none !important; }` so we also need the `!important` here to be able to override the default hidden behavior on the sphinx rendered scikit-learn.org. See: https://github.com/scikit-learn/scikit-learn/issues/21755 */display: inline-block !important;position: relative;}#sk-container-id-1 div.sk-text-repr-fallback {display: none;}</style><div id=\"sk-container-id-1\" class=\"sk-top-container\"><div class=\"sk-text-repr-fallback\"><pre>KMeans(n_clusters=7)</pre><b>In a Jupyter environment, please rerun this cell to show the HTML representation or trust the notebook. <br />On GitHub, the HTML representation is unable to render, please try loading this page with nbviewer.org.</b></div><div class=\"sk-container\" hidden><div class=\"sk-item\"><div class=\"sk-estimator sk-toggleable\"><input class=\"sk-toggleable__control sk-hidden--visually\" id=\"sk-estimator-id-1\" type=\"checkbox\" checked><label for=\"sk-estimator-id-1\" class=\"sk-toggleable__label sk-toggleable__label-arrow\">KMeans</label><div class=\"sk-toggleable__content\"><pre>KMeans(n_clusters=7)</pre></div></div></div></div></div>"
            ]
          },
          "metadata": {},
          "execution_count": 14
        }
      ]
    },
    {
      "cell_type": "code",
      "source": [
        "from sklearn.decomposition import PCA\n",
        "y_kmeans = kmeans.predict(features_df)\n",
        "pca = PCA(n_components=2)\n",
        "principal_components = pca.fit_transform(features_df)"
      ],
      "metadata": {
        "id": "RyuwYKALX9g2"
      },
      "execution_count": null,
      "outputs": []
    },
    {
      "cell_type": "code",
      "source": [
        "pc = pd.DataFrame(principal_components)\n",
        "pc['label'] = y_kmeans\n",
        "pc.columns = ['x', 'y','label']\n",
        "\n",
        "#plot data with seaborn\n",
        "cluster = sns.lmplot(data=pc, x='x', y='y', hue='label', \n",
        "                   fit_reg=False, legend=True, legend_out=True)"
      ],
      "metadata": {
        "colab": {
          "base_uri": "https://localhost:8080/",
          "height": 561
        },
        "id": "UTua-DKKYAUK",
        "outputId": "25dd9fcb-0c7f-4d2e-b958-fc2332c8ca8c"
      },
      "execution_count": null,
      "outputs": [
        {
          "output_type": "stream",
          "name": "stderr",
          "text": [
            "/usr/local/lib/python3.9/dist-packages/seaborn/regression.py:582: UserWarning: legend_out is deprecated from the `lmplot` function signature. Please update your code to pass it using `facet_kws`.\n",
            "  warnings.warn(msg, UserWarning)\n"
          ]
        },
        {
          "output_type": "display_data",
          "data": {
            "text/plain": [
              "<Figure size 558.875x500 with 1 Axes>"
            ],
            "image/png": "[encoded data removed]"
          },
          "metadata": {}
        }
      ]
    },
    {
      "cell_type": "code",
      "source": [
        "print(features_df.iloc[1200:1210])\n",
        "print(kmeans.predict(features_df.iloc[1200:1210]))"
      ],
      "metadata": {
        "colab": {
          "base_uri": "https://localhost:8080/"
        },
        "id": "Hw9H42TwaI1R",
        "outputId": "3e1e0ac0-6d26-417b-ba4f-5467c9537347"
      },
      "execution_count": null,
      "outputs": [
        {
          "output_type": "stream",
          "name": "stdout",
          "text": [
            "      danceability  energy  speechiness  acousticness  instrumentalness  \\\n",
            "1200         0.626   0.849       0.1230        0.0732          0.000000   \n",
            "1201         0.743   0.837       0.0649        0.0172          0.000000   \n",
            "1202         0.720   0.630       0.2770        0.6730          0.000000   \n",
            "1203         0.739   0.586       0.0472        0.0245          0.000252   \n",
            "1204         0.736   0.906       0.0480        0.1640          0.585000   \n",
            "1205         0.687   0.818       0.0778        0.0112          0.000000   \n",
            "1206         0.621   0.785       0.1100        0.0165          0.000006   \n",
            "1207         0.578   0.912       0.1140        0.0166          0.003620   \n",
            "1208         0.763   0.782       0.0346        0.1820          0.000007   \n",
            "1209         0.730   0.907       0.0606        0.0921          0.114000   \n",
            "\n",
            "      liveness  valence  \n",
            "1200    0.5930    0.898  \n",
            "1201    0.0743    0.263  \n",
            "1202    0.0936    0.607  \n",
            "1203    0.3080    0.444  \n",
            "1204    0.1060    0.698  \n",
            "1205    0.2480    0.886  \n",
            "1206    0.0512    0.779  \n",
            "1207    0.2730    0.680  \n",
            "1208    0.2930    0.502  \n",
            "1209    0.2300    0.249  \n",
            "[2 0 1 0 6 2 2 2 2 0]\n"
          ]
        }
      ]
    },
    {
      "cell_type": "code",
      "source": [
        "from joblib import dump\n",
        "dump(kmeans, 'spotify_kmeans_model.joblib')"
      ],
      "metadata": {
        "colab": {
          "base_uri": "https://localhost:8080/"
        },
        "id": "IRUpkodcEpCY",
        "outputId": "df27c4dc-015a-4a71-d65d-722d6df00dc5"
      },
      "execution_count": null,
      "outputs": [
        {
          "output_type": "execute_result",
          "data": {
            "text/plain": [
              "['spotify_kmeans_model.joblib']"
            ]
          },
          "metadata": {},
          "execution_count": 23
        }
      ]
    },
    {
      "cell_type": "code",
      "source": [
        "pca.explained_variance_ratio_\n"
      ],
      "metadata": {
        "id": "Q8MCBmejcAQ8",
        "colab": {
          "base_uri": "https://localhost:8080/"
        },
        "outputId": "546204b3-dd52-40b6-f05c-43aeb44eb3a5"
      },
      "execution_count": null,
      "outputs": [
        {
          "output_type": "execute_result",
          "data": {
            "text/plain": [
              "array([0.56460117, 0.15278385])"
            ]
          },
          "metadata": {},
          "execution_count": 20
        }
      ]
    },
    {
      "cell_type": "code",
      "source": [
        "print (pd.DataFrame(pca.components_,columns=features_df.columns,index = ['PC-1','PC-2']))"
      ],
      "metadata": {
        "id": "AEWqRkqKsb9m",
        "colab": {
          "base_uri": "https://localhost:8080/"
        },
        "outputId": "3a8221a4-fb9f-4d95-bd60-c20fd2956a0b"
      },
      "execution_count": null,
      "outputs": [
        {
          "output_type": "stream",
          "name": "stdout",
          "text": [
            "      danceability    energy  speechiness  acousticness  instrumentalness  \\\n",
            "PC-1     -0.083594 -0.542961    -0.043356      0.786238          0.019875   \n",
            "PC-2     -0.402667  0.056000    -0.016176     -0.281202          0.315332   \n",
            "\n",
            "      liveness   valence  \n",
            "PC-1 -0.077290 -0.267932  \n",
            "PC-2  0.069107 -0.806956  \n"
          ]
        }
      ]
    },
    {
      "cell_type": "code",
      "source": [
        "songs['label'] = y_kmeans\n",
        "\n",
        "# shuffle dataset\n",
        "\n",
        "songs = songs.sample(frac=1)\n",
        "songs['label'].value_counts()\n"
      ],
      "metadata": {
        "id": "z_gNoQtHslsj",
        "colab": {
          "base_uri": "https://localhost:8080/"
        },
        "outputId": "a928c10e-4b40-4101-d518-8dc6884b7bff"
      },
      "execution_count": null,
      "outputs": [
        {
          "output_type": "execute_result",
          "data": {
            "text/plain": [
              "2    304\n",
              "3    295\n",
              "0    274\n",
              "1    240\n",
              "4    138\n",
              "6     70\n",
              "5     32\n",
              "Name: label, dtype: int64"
            ]
          },
          "metadata": {},
          "execution_count": 19
        }
      ]
    },
    {
      "cell_type": "code",
      "source": [
        "songs[songs['label'] == 0].tail(50)"
      ],
      "metadata": {
        "id": "3Olepeuvs0UG"
      },
      "execution_count": null,
      "outputs": []
    },
    {
      "cell_type": "code",
      "source": [
        "songs[songs['label'] == 1].tail(20)"
      ],
      "metadata": {
        "id": "Y8a4-yj0s25B"
      },
      "execution_count": null,
      "outputs": []
    },
    {
      "cell_type": "code",
      "source": [
        "songs[songs['label'] == 2].tail(20)"
      ],
      "metadata": {
        "id": "W-HWO7PmtIIF"
      },
      "execution_count": null,
      "outputs": []
    },
    {
      "cell_type": "code",
      "source": [
        "songs[songs['label'] == 3].tail(20)"
      ],
      "metadata": {
        "id": "CCzrHbvptJA0"
      },
      "execution_count": null,
      "outputs": []
    },
    {
      "cell_type": "code",
      "source": [
        "songs[songs['label'] == 4].tail(20)"
      ],
      "metadata": {
        "id": "L_xH1xintJrx"
      },
      "execution_count": null,
      "outputs": []
    },
    {
      "cell_type": "code",
      "source": [
        "songs[songs['label'] == 5].tail(20)"
      ],
      "metadata": {
        "id": "njvSUS8RtOPT"
      },
      "execution_count": null,
      "outputs": []
    },
    {
      "cell_type": "code",
      "source": [
        "songs[songs['label'] == 6].tail(20)"
      ],
      "metadata": {
        "id": "BwK_2u0YtO-N"
      },
      "execution_count": null,
      "outputs": []
    },
    {
      "cell_type": "markdown",
      "source": [
        "6 - ANGER\n",
        "\n",
        "5 - r e l a x e d\n",
        "\n",
        "4 - sad!\n",
        "\n",
        "3 - ANGER or ENERGIZEDENERGIZEDENERGIZEDENERGIZEDENERGIZEDENERGIZED\n",
        "\n",
        "2 - Happy :)\n",
        "\n",
        "1 - sad...\n",
        "\n",
        "0 - h a p p y (Happy but relaxed I think)"
      ],
      "metadata": {
        "id": "ZWn4V6hz9Pwc"
      }
    },
    {
      "cell_type": "code",
      "source": [
        "!pip install mysql-connector-python"
      ],
      "metadata": {
        "colab": {
          "base_uri": "https://localhost:8080/"
        },
        "id": "2tSDy56ExW1n",
        "outputId": "52098d33-526d-4593-98a7-d67e0108dbd2"
      },
      "execution_count": null,
      "outputs": [
        {
          "output_type": "stream",
          "name": "stdout",
          "text": [
            "Looking in indexes: https://pypi.org/simple, https://us-python.pkg.dev/colab-wheels/public/simple/\n",
            "Collecting mysql-connector-python\n",
            "  Downloading mysql_connector_python-8.0.33-cp39-cp39-manylinux1_x86_64.whl (27.4 MB)\n",
            "\u001b[2K     \u001b[90m━━━━━━━━━━━━━━━━━━━━━━━━━━━━━━━━━━━━━━━━\u001b[0m \u001b[32m27.4/27.4 MB\u001b[0m \u001b[31m34.7 MB/s\u001b[0m eta \u001b[36m0:00:00\u001b[0m\n",
            "\u001b[?25hRequirement already satisfied: protobuf<=3.20.3,>=3.11.0 in /usr/local/lib/python3.9/dist-packages (from mysql-connector-python) (3.20.3)\n",
            "Installing collected packages: mysql-connector-python\n",
            "Successfully installed mysql-connector-python-8.0.33\n"
          ]
        }
      ]
    },
    {
      "cell_type": "code",
      "source": [
        "import mysql.connector"
      ],
      "metadata": {
        "id": "wSwa2H6ttP0S"
      },
      "execution_count": null,
      "outputs": []
    },
    {
      "cell_type": "code",
      "source": [
        "# mydb = mysql.connector.connect(\n",
        "#   host=\"EXAMPLE\",\n",
        "#   user=\"EXAMPLE\",\n",
        "#   password=\"EXAMPLE\",\n",
        "#   database=\"EXAMPLE\"\n",
        "# )\n",
        "\n",
        "# try:\n",
        "#     query = \"Select * from spotify_track\"\n",
        "#     result_dataFrame = pd.read_sql(query,mydb)\n",
        "#     mydb.close() #close the connection\n",
        "#     print(result_dataFrame.head())\n",
        "# except Exception as e:\n",
        "#     mydb.close()\n",
        "#     print(str(e))"
      ],
      "metadata": {
        "colab": {
          "base_uri": "https://localhost:8080/"
        },
        "id": "_hvz9hsgxerk",
        "outputId": "9fb36e90-7cb2-4259-a4a9-be1fa2ca9cb3"
      },
      "execution_count": null,
      "outputs": [
        {
          "output_type": "stream",
          "name": "stderr",
          "text": [
            "<ipython-input-22-f4f308e38730>:10: UserWarning: pandas only supports SQLAlchemy connectable (engine/connection) or database string URI or sqlite3 DBAPI2 connection. Other DBAPI2 objects are not tested. Please consider using SQLAlchemy.\n",
            "  result_dataFrame = pd.read_sql(query,mydb)\n"
          ]
        },
        {
          "output_type": "stream",
          "name": "stdout",
          "text": [
            "                 track_id                album_id                  name  \\\n",
            "0  04rDkoTrRwMHAvxaUiXuNB  3sxKuVQYK901ZyxTpLMFWG            Alles Lüge   \n",
            "1  0C3UVswa3vCrbL1fRyMwTL  4gKogAniknUzrLNCBnMAlt                Closer   \n",
            "2  0Grv4X2n2ZamotZo8LHTtk  3ny3DruClpPaFHHp7MIFai     Sueña Dulce Nena   \n",
            "3  0001Lyv0YTjkZSqzT4WkLy  3nQbcYEXJ3QQkkObxmm76Y  Eye Of The Hurricane   \n",
            "4  0C3VVxEbbYSadhlvBRq0Si  47P5zEcCBsYXLGeTNrhxOz     Mean Blue Spirits   \n",
            "\n",
            "                                          track_href  \\\n",
            "0  https://open.spotify.com/track/04rDkoTrRwMHAvx...   \n",
            "1  https://open.spotify.com/track/0C3UVswa3vCrbL1...   \n",
            "2  https://open.spotify.com/track/0Grv4X2n2ZamotZ...   \n",
            "3  https://open.spotify.com/track/0001Lyv0YTjkZSq...   \n",
            "4  https://open.spotify.com/track/0C3VVxEbbYSadhl...   \n",
            "\n",
            "                                     cover_image_url release_date  \\\n",
            "0  https://i.scdn.co/image/ab67616d0000b27380fe9c...   1993-08-09   \n",
            "1  https://i.scdn.co/image/ab67616d0000b2737555c8...   2022-11-30   \n",
            "2  https://i.scdn.co/image/ab67616d0000b2734590cf...   2017-04-28   \n",
            "3  https://i.scdn.co/image/ab67616d0000b273c6a7c1...   1993-06-01   \n",
            "4  https://i.scdn.co/image/ab67616d0000b273e33d69...   2018-02-02   \n",
            "\n",
            "                                         preview_url  popularity  \\\n",
            "0                                               None           0   \n",
            "1  https://p.scdn.co/mp3-preview/b07a5f25592aac1b...           1   \n",
            "2  https://p.scdn.co/mp3-preview/524c18e07adb3344...          16   \n",
            "3  https://p.scdn.co/mp3-preview/48c6c2a5b4390943...           0   \n",
            "4  https://p.scdn.co/mp3-preview/91fda3dd11e426b4...           7   \n",
            "\n",
            "   acousticness  danceability  energy  liveness  loudness  speechiness  \\\n",
            "0         0.038         0.557   0.792    0.0633    -8.878       0.0412   \n",
            "1         0.399         0.698   0.502    0.4050   -14.843       0.0734   \n",
            "2         0.102         0.448   0.692    0.1470    -7.468       0.0444   \n",
            "3         0.261         0.490   0.912    0.0617   -11.245       0.0522   \n",
            "4         0.729         0.672   0.427    0.1090    -8.368       0.1340   \n",
            "\n",
            "     tempo  instrumentalness  valence  auto_index  \n",
            "0  126.027          0.002410    0.247           1  \n",
            "1   99.144          0.000108    0.966           2  \n",
            "2  180.106          0.000006    0.832           3  \n",
            "3  134.867          0.012800    0.115           4  \n",
            "4  119.337          0.024600    0.726           5  \n"
          ]
        }
      ]
    },
    {
      "cell_type": "code",
      "source": [
        "# try:\n",
        "#     query = \"Select * from spotify_track\"\n",
        "#     result_dataFrame = pd.read_sql(query,mydb)\n",
        "#     mydb.close() #close the connection\n",
        "#     print(result_dataFrame.head())\n",
        "# except Exception as e:\n",
        "#     mydb.close()\n",
        "#     print(str(e))"
      ],
      "metadata": {
        "id": "T5xptOfXx1Qo"
      },
      "execution_count": null,
      "outputs": []
    },
    {
      "cell_type": "code",
      "source": [
        "\n",
        "label_results = pd.DataFrame(result_dataFrame['track_id'], columns=['track_id'])\n",
        "label_results"
      ],
      "metadata": {
        "id": "jrCLL4Ia1Ewr"
      },
      "execution_count": null,
      "outputs": []
    },
    {
      "cell_type": "code",
      "source": [
        "label_results['emotion_analysis'] = kmeans.predict(result_dataFrame[['danceability','energy','speechiness','acousticness','instrumentalness','liveness','valence']])"
      ],
      "metadata": {
        "id": "eGB3JC2k7k37"
      },
      "execution_count": null,
      "outputs": []
    },
    {
      "cell_type": "code",
      "source": [
        "labels = kmeans.predict(result_dataFrame[['danceability','energy','speechiness','acousticness','instrumentalness','liveness','valence']])"
      ],
      "metadata": {
        "id": "uRWjzTfK81Sq"
      },
      "execution_count": null,
      "outputs": []
    },
    {
      "cell_type": "code",
      "source": [
        "label_results['emotion_analysis'] = labels"
      ],
      "metadata": {
        "id": "RO2RiVYa8oSl"
      },
      "execution_count": null,
      "outputs": []
    },
    {
      "cell_type": "code",
      "source": [
        "label_results.head()"
      ],
      "metadata": {
        "id": "Ih1Pwnio8jkt"
      },
      "execution_count": null,
      "outputs": []
    },
    {
      "cell_type": "code",
      "source": [
        "import cv2\n",
        "import numpy as np\n",
        "from skimage import io\n",
        "import matplotlib.pyplot as plt\n",
        "list_colors = []\n",
        "for i in range(len(result_dataFrame['cover_image_url'])):\n",
        "  try:\n",
        "    img = io.imread(result_dataFrame['cover_image_url'])\n",
        "\n",
        "    pixels = np.float32(img.reshape(-1, 3))\n",
        "\n",
        "    n_colors = 5\n",
        "    criteria = (cv2.TERM_CRITERIA_EPS + cv2.TERM_CRITERIA_MAX_ITER, 200, .1)\n",
        "    flags = cv2.KMEANS_RANDOM_CENTERS\n",
        "\n",
        "    _, labels, palette = cv2.kmeans(pixels, n_colors, None, criteria, 10, flags)\n",
        "    _, counts = np.unique(labels, return_counts=True)\n",
        "\n",
        "    dominant = palette[np.argmax(counts)]\n",
        "    dominant = [int(x) for x in dominant]\n",
        "    dominant = '#{:02x}{:02x}{:02x}'.format(*dominant)\n",
        "    list_colors.append(dominant)\n",
        "    #hex_color_analysis\n",
        "  except:\n",
        "    list_colors.append('#FFFFFF')\n",
        "print(list_colors)"
      ],
      "metadata": {
        "id": "UfThN7tA9g4a"
      },
      "execution_count": null,
      "outputs": []
    },
    {
      "cell_type": "code",
      "source": [
        "from joblib import load\n",
        "\n",
        "# Load the trained model from a file\n",
        "kmeans = load('spotify_kmeans_model.joblib')"
      ],
      "metadata": {
        "id": "C3vdMP1x-HzF"
      },
      "execution_count": null,
      "outputs": []
    },
    {
      "cell_type": "code",
      "source": [
        "print(kmeans.predict(features_df.iloc[1200:1210]))"
      ],
      "metadata": {
        "colab": {
          "base_uri": "https://localhost:8080/"
        },
        "id": "Qkm5V51XE29C",
        "outputId": "447d6e9f-80c5-4049-ec2d-b1280214bdbe"
      },
      "execution_count": null,
      "outputs": [
        {
          "output_type": "stream",
          "name": "stdout",
          "text": [
            "[0 5 0 2 6 6 6 6 3 0]\n"
          ]
        }
      ]
    },
    {
      "cell_type": "code",
      "source": [
        "img = io.imread(result_dataFrame['cover_image_url'])"
      ],
      "metadata": {
        "id": "ReSx24beFAWY"
      },
      "execution_count": null,
      "outputs": []
    },
    {
      "cell_type": "code",
      "source": [
        "import sklearn\n",
        "print(sklearn.__version__)"
      ],
      "metadata": {
        "colab": {
          "base_uri": "https://localhost:8080/"
        },
        "id": "K3XljsbWPec4",
        "outputId": "261b56d2-3bec-4ed1-f534-a000a3ed1683"
      },
      "execution_count": null,
      "outputs": [
        {
          "output_type": "stream",
          "name": "stdout",
          "text": [
            "1.2.2\n"
          ]
        }
      ]
    },
    {
      "cell_type": "code",
      "source": [
        "img = io.imread(result_dataFrame['cover_image_url'])"
      ],
      "metadata": {
        "id": "PztTQUhSQrqr"
      },
      "execution_count": null,
      "outputs": []
    }
  ]
}